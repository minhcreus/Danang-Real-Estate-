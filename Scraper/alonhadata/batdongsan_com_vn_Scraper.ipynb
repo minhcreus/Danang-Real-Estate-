{
 "cells": [
  {
   "cell_type": "markdown",
   "metadata": {},
   "source": [
    "## Setting up"
   ]
  },
  {
   "cell_type": "code",
   "execution_count": 10,
   "metadata": {},
   "outputs": [],
   "source": [
    "from selenium import webdriver\n",
    "from selenium.webdriver.common.by import By\n",
    "from selenium.webdriver.chrome.service import Service\n",
    "from webdriver_manager.chrome import ChromeDriverManager\n",
    "from selenium.common.exceptions import NoSuchElementException, StaleElementReferenceException, TimeoutException\n",
    "from selenium.webdriver.support.ui import WebDriverWait\n",
    "from selenium.webdriver.support import expected_conditions as EC\n",
    "import pandas as pd\n",
    "import time\n",
    "import random\n",
    "import re\n",
    "# Setup ChromeDriver\n",
    "options = webdriver.ChromeOptions()\n",
    "# options.add_argument('--disable-blink-features=AutomationControlled')  # Disable automation flags\n",
    "options.add_experimental_option('excludeSwitches', ['enable-logging'])\n",
    "options.add_experimental_option(\n",
    "        \"prefs\", {\n",
    "            # block image loading\n",
    "            \"profile.managed_default_content_settings.images\": 2,\n",
    "        }\n",
    "    )\n",
    "# options.add_argument('--headless')  # Uncomment for headless mode\n",
    "\n",
    "service = Service(ChromeDriverManager().install())\n",
    "# driver = webdriver.Chrome(service=service, options=options)\n",
    "# wait = WebDriverWait(driver, 10)"
   ]
  },
  {
   "cell_type": "markdown",
   "metadata": {},
   "source": [
    "## Supporting function"
   ]
  },
  {
   "cell_type": "code",
   "execution_count": 11,
   "metadata": {},
   "outputs": [],
   "source": [
    "def remove_unwanted_div():\n",
    "    script = \"\"\"\n",
    "    var element = document.querySelector('.re__listing-verified-similar-v2.js__listing-verified-similar');\n",
    "    if (element) {\n",
    "        element.remove();\n",
    "    }\n",
    "    \"\"\"\n",
    "    driver.execute_script(script)\n",
    "def remove_search_form():\n",
    "    script = \"\"\"\n",
    "    var element = document.querySelector('#boxSearchForm');\n",
    "    if (element) {\n",
    "        element.remove();\n",
    "    }\n",
    "    \"\"\"\n",
    "    driver.execute_script(script)\n",
    "\n",
    "def scroll_to_bottom():\n",
    "    driver.execute_script(\"window.scrollTo(0, document.body.scrollHeight);\")\n",
    "    human_like_delay(1, 3)\n",
    "def human_like_delay(min_time=1, max_time=3):\n",
    "    time.sleep(random.uniform(min_time, max_time))\n"
   ]
  },
  {
   "cell_type": "markdown",
   "metadata": {},
   "source": [
    "## Scraping function(main page)"
   ]
  },
  {
   "cell_type": "code",
   "execution_count": 12,
   "metadata": {},
   "outputs": [],
   "source": [
    "data_list = []\n",
    "STANDARD_KEYS = ['Diện tích', 'Mức giá', 'Mặt tiền', 'Đường vào', 'Hướng nhà', 'Hướng ban công', \n",
    "                 'Số phòng ngủ', 'Số toilet', 'Pháp lý', 'Số tầng', 'Nội thất','Longitude','Latitude']"
   ]
  },
  {
   "cell_type": "code",
   "execution_count": 13,
   "metadata": {},
   "outputs": [],
   "source": [
    "def scrape_main_page(url):\n",
    "    driver.get(url)\n",
    "    scroll_to_bottom()\n",
    "    human_like_delay(2,4)\n",
    "    wait.until(EC.presence_of_all_elements_located((By.CLASS_NAME, 'js__product-link-for-product-id')))\n",
    "    remove_unwanted_div()\n",
    "    cards = driver.find_elements(By.CLASS_NAME, 'js__product-link-for-product-id')\n",
    "\n",
    "    for i in range(len(cards)-2):\n",
    "        try:\n",
    "            print(len(cards))\n",
    "            print(f\"Clicking on card {i + 1}...\")\n",
    "            wait.until(EC.presence_of_all_elements_located((By.CLASS_NAME, 'js__product-link-for-product-id')))\n",
    "            remove_unwanted_div()\n",
    "            cards = driver.find_elements(By.CLASS_NAME, 'js__product-link-for-product-id')\n",
    "            remove_search_form()\n",
    "            human_like_delay(2,3)\n",
    "\n",
    "            driver.execute_script(\"arguments[0].scrollIntoView();\", cards[i])\n",
    "            human_like_delay(1, 2)\n",
    "            cards[i].click()\n",
    "\n",
    "            human_like_delay(1, 3)\n",
    "\n",
    "            scrape_page()\n",
    "            \n",
    "            human_like_delay(2, 5)\n",
    "\n",
    "        except Exception as e:\n",
    "            print(f\"An error occurred while clicking on card {i + 1}: {e}\")\n",
    "        finally:\n",
    "            try:\n",
    "                driver.back()\n",
    "            except:\n",
    "                driver.get(url) "
   ]
  },
  {
   "cell_type": "markdown",
   "metadata": {},
   "source": [
    "## Scraping function(card)"
   ]
  },
  {
   "cell_type": "code",
   "execution_count": 14,
   "metadata": {},
   "outputs": [],
   "source": [
    "def extract_latitude_longitude():\n",
    "    try:\n",
    "        iframe = wait.until(EC.presence_of_element_located((By.CSS_SELECTOR, 'iframe[data-src]')))\n",
    "        \n",
    "        data_src = iframe.get_attribute('data-src')\n",
    "        \n",
    "\n",
    "        pattern = r\"q=([\\d.]+),([\\d.]+)&\"\n",
    "        match = re.search(pattern, data_src)\n",
    "        \n",
    "        if match:\n",
    "            latitude = match.group(1)\n",
    "            longitude = match.group(2)\n",
    "            print(f\"Latitude: {latitude}, Longitude: {longitude}\")\n",
    "            return latitude, longitude\n",
    "        else:\n",
    "            print(\"Latitude and Longitude not found in the URL.\")\n",
    "            return None, None\n",
    "    except Exception as e:\n",
    "        print(f\"Error extracting latitude and longitude: {e}\")\n",
    "        return None, None"
   ]
  },
  {
   "cell_type": "code",
   "execution_count": 15,
   "metadata": {},
   "outputs": [],
   "source": [
    "def scrape_page():\n",
    "\n",
    "    data = {}\n",
    "    try:\n",
    "        wait.until(EC.presence_of_element_located((By.CLASS_NAME, 're__pr-specs-content-item-value')))\n",
    "        \n",
    "        specs_items = driver.find_elements(By.CSS_SELECTOR, '.re__pr-specs-content-item')\n",
    "\n",
    "        for item in specs_items:\n",
    "                    title_element = item.find_element(By.CLASS_NAME, 're__pr-specs-content-item-title')\n",
    "                    value_element = item.find_element(By.CLASS_NAME, 're__pr-specs-content-item-value')\n",
    "\n",
    "                    title = title_element.text.strip()\n",
    "                    value = value_element.text.strip()\n",
    "\n",
    "                    data[title] = value\n",
    "\n",
    "        latitude, longitude = extract_latitude_longitude()\n",
    "        if latitude and longitude:\n",
    "            data['Latitude'] = latitude\n",
    "            data['Longitude'] = longitude\n",
    "        for key in STANDARD_KEYS:\n",
    "            if key not in data:\n",
    "                data[key] = None\n",
    "        print(data)\n",
    "        data_list.append(data)\n",
    "    except TimeoutException:\n",
    "        print(\"Timeout reached while trying to load the card page.\")"
   ]
  },
  {
   "cell_type": "markdown",
   "metadata": {},
   "source": [
    "## Checkpoint"
   ]
  },
  {
   "cell_type": "code",
   "execution_count": 16,
   "metadata": {},
   "outputs": [
    {
     "name": "stdout",
     "output_type": "stream",
     "text": [
      "23\n",
      "Clicking on card 1...\n",
      "Latitude: 16.0783986649086, Longitude: 108.236456036436\n",
      "{'Diện tích': '76 m²', 'Mức giá': '8,5 tỷ', 'Mặt tiền': '45 m', 'Đường vào': '75 m', 'Số tầng': '2 tầng', 'Số phòng ngủ': '3 phòng', 'Số toilet': '2 phòng', 'Pháp lý': 'Sổ đỏ/ Sổ hồng', 'Nội thất': 'Cơ bản', 'Latitude': '16.0783986649086', 'Longitude': '108.236456036436', 'Hướng nhà': None, 'Hướng ban công': None}\n",
      "23\n",
      "Clicking on card 2...\n",
      "Latitude: 16.0676815614428, Longitude: 108.234862780888\n",
      "{'Diện tích': '79 m²', 'Mức giá': '6,8 tỷ', 'Mặt tiền': '4,5 m', 'Đường vào': '75 m', 'Hướng nhà': 'Đông', 'Hướng ban công': 'Đông', 'Số tầng': '4 tầng', 'Số phòng ngủ': '4 phòng', 'Số toilet': '4 phòng', 'Pháp lý': 'Sổ đỏ/ Sổ hồng', 'Nội thất': 'Đầy đủ', 'Latitude': '16.0676815614428', 'Longitude': '108.234862780888'}\n",
      "23\n",
      "Clicking on card 3...\n",
      "Latitude: 16.0420371248445, Longitude: 108.243851399054\n",
      "{'Diện tích': '97,3 m²', 'Mức giá': '5,5 tỷ', 'Mặt tiền': '4 m', 'Đường vào': '11,25 m', 'Hướng nhà': 'Tây - Nam', 'Hướng ban công': 'Tây - Nam', 'Số tầng': '1 tầng', 'Số phòng ngủ': '2 phòng', 'Số toilet': '1 phòng', 'Pháp lý': 'Sổ đỏ/ Sổ hồng', 'Nội thất': 'Đầy đủ.', 'Latitude': '16.0420371248445', 'Longitude': '108.243851399054'}\n",
      "23\n",
      "Clicking on card 4...\n",
      "Latitude: 16.0537421495908, Longitude: 108.220572564751\n",
      "{'Diện tích': '202 m²', 'Mức giá': '25,5 tỷ', 'Mặt tiền': '4 m', 'Đường vào': '10 m', 'Hướng nhà': 'Đông', 'Hướng ban công': 'Đông', 'Số tầng': '2 tầng', 'Số phòng ngủ': '8 phòng', 'Số toilet': '5 phòng', 'Pháp lý': 'Sổ đỏ/ Sổ hồng', 'Nội thất': 'Đầy đủ', 'Latitude': '16.0537421495908', 'Longitude': '108.220572564751'}\n",
      "23\n",
      "Clicking on card 5...\n",
      "Latitude: 10.78687572479248, Longitude: 106.73294067382812\n",
      "{'Diện tích': '95 m²', 'Mức giá': '6,12 tỷ', 'Hướng nhà': 'Đông - Bắc', 'Hướng ban công': 'Tây - Nam', 'Số phòng ngủ': '3 phòng', 'Số toilet': '2 phòng', 'Pháp lý': 'Sổ đỏ/ Sổ hồng', 'Nội thất': 'Cơ bản', 'Latitude': '10.78687572479248', 'Longitude': '106.73294067382812', 'Mặt tiền': None, 'Đường vào': None, 'Số tầng': None}\n",
      "23\n",
      "Clicking on card 6...\n",
      "Latitude: 16.0712100567984, Longitude: 108.209393238451\n",
      "{'Diện tích': '82 m²', 'Mức giá': '13,7 tỷ', 'Mặt tiền': '4,6 m', 'Đường vào': '15 m', 'Số tầng': '3 tầng', 'Số phòng ngủ': '2 phòng', 'Số toilet': '2 phòng', 'Pháp lý': 'Sổ đỏ/ Sổ hồng', 'Nội thất': 'Cơ bản', 'Latitude': '16.0712100567984', 'Longitude': '108.209393238451', 'Hướng nhà': None, 'Hướng ban công': None}\n",
      "23\n",
      "Clicking on card 7...\n",
      "Latitude: 16.0495325522977, Longitude: 108.247110479732\n",
      "{'Diện tích': '90 m²', 'Mức giá': '20,5 tỷ', 'Mặt tiền': '5 m', 'Đường vào': '7,5 m', 'Số tầng': '2 tầng', 'Latitude': '16.0495325522977', 'Longitude': '108.247110479732', 'Hướng nhà': None, 'Hướng ban công': None, 'Số phòng ngủ': None, 'Số toilet': None, 'Pháp lý': None, 'Nội thất': None}\n",
      "23\n",
      "Clicking on card 8...\n",
      "Latitude: 16.0479396704787, Longitude: 108.246595868249\n",
      "{'Diện tích': '98 m²', 'Mức giá': '25 tỷ', 'Số phòng ngủ': '14 phòng', 'Số toilet': '14 phòng', 'Pháp lý': 'Hợp đồng mua bán', 'Nội thất': 'Đầy đủ', 'Latitude': '16.0479396704787', 'Longitude': '108.246595868249', 'Mặt tiền': None, 'Đường vào': None, 'Hướng nhà': None, 'Hướng ban công': None, 'Số tầng': None}\n",
      "23\n",
      "Clicking on card 9...\n",
      "An error occurred while clicking on card 9: Message: chrome not reachable\n",
      "  (Session info: chrome=103.0.5060.53)\n",
      "\n",
      "[{'Diện tích': '76 m²', 'Mức giá': '8,5 tỷ', 'Mặt tiền': '45 m', 'Đường vào': '75 m', 'Số tầng': '2 tầng', 'Số phòng ngủ': '3 phòng', 'Số toilet': '2 phòng', 'Pháp lý': 'Sổ đỏ/ Sổ hồng', 'Nội thất': 'Cơ bản', 'Latitude': '16.0783986649086', 'Longitude': '108.236456036436', 'Hướng nhà': None, 'Hướng ban công': None}, {'Diện tích': '79 m²', 'Mức giá': '6,8 tỷ', 'Mặt tiền': '4,5 m', 'Đường vào': '75 m', 'Hướng nhà': 'Đông', 'Hướng ban công': 'Đông', 'Số tầng': '4 tầng', 'Số phòng ngủ': '4 phòng', 'Số toilet': '4 phòng', 'Pháp lý': 'Sổ đỏ/ Sổ hồng', 'Nội thất': 'Đầy đủ', 'Latitude': '16.0676815614428', 'Longitude': '108.234862780888'}, {'Diện tích': '97,3 m²', 'Mức giá': '5,5 tỷ', 'Mặt tiền': '4 m', 'Đường vào': '11,25 m', 'Hướng nhà': 'Tây - Nam', 'Hướng ban công': 'Tây - Nam', 'Số tầng': '1 tầng', 'Số phòng ngủ': '2 phòng', 'Số toilet': '1 phòng', 'Pháp lý': 'Sổ đỏ/ Sổ hồng', 'Nội thất': 'Đầy đủ.', 'Latitude': '16.0420371248445', 'Longitude': '108.243851399054'}, {'Diện tích': '202 m²', 'Mức giá': '25,5 tỷ', 'Mặt tiền': '4 m', 'Đường vào': '10 m', 'Hướng nhà': 'Đông', 'Hướng ban công': 'Đông', 'Số tầng': '2 tầng', 'Số phòng ngủ': '8 phòng', 'Số toilet': '5 phòng', 'Pháp lý': 'Sổ đỏ/ Sổ hồng', 'Nội thất': 'Đầy đủ', 'Latitude': '16.0537421495908', 'Longitude': '108.220572564751'}, {'Diện tích': '95 m²', 'Mức giá': '6,12 tỷ', 'Hướng nhà': 'Đông - Bắc', 'Hướng ban công': 'Tây - Nam', 'Số phòng ngủ': '3 phòng', 'Số toilet': '2 phòng', 'Pháp lý': 'Sổ đỏ/ Sổ hồng', 'Nội thất': 'Cơ bản', 'Latitude': '10.78687572479248', 'Longitude': '106.73294067382812', 'Mặt tiền': None, 'Đường vào': None, 'Số tầng': None}, {'Diện tích': '82 m²', 'Mức giá': '13,7 tỷ', 'Mặt tiền': '4,6 m', 'Đường vào': '15 m', 'Số tầng': '3 tầng', 'Số phòng ngủ': '2 phòng', 'Số toilet': '2 phòng', 'Pháp lý': 'Sổ đỏ/ Sổ hồng', 'Nội thất': 'Cơ bản', 'Latitude': '16.0712100567984', 'Longitude': '108.209393238451', 'Hướng nhà': None, 'Hướng ban công': None}, {'Diện tích': '90 m²', 'Mức giá': '20,5 tỷ', 'Mặt tiền': '5 m', 'Đường vào': '7,5 m', 'Số tầng': '2 tầng', 'Latitude': '16.0495325522977', 'Longitude': '108.247110479732', 'Hướng nhà': None, 'Hướng ban công': None, 'Số phòng ngủ': None, 'Số toilet': None, 'Pháp lý': None, 'Nội thất': None}, {'Diện tích': '98 m²', 'Mức giá': '25 tỷ', 'Số phòng ngủ': '14 phòng', 'Số toilet': '14 phòng', 'Pháp lý': 'Hợp đồng mua bán', 'Nội thất': 'Đầy đủ', 'Latitude': '16.0479396704787', 'Longitude': '108.246595868249', 'Mặt tiền': None, 'Đường vào': None, 'Hướng nhà': None, 'Hướng ban công': None, 'Số tầng': None}]\n",
      "Saved successfully\n"
     ]
    }
   ],
   "source": [
    "driver = webdriver.Chrome(service=service, options=options)\n",
    "wait = WebDriverWait(driver, 10)\n",
    "try:\n",
    "    for i in range(5,152):\n",
    "        try:\n",
    "            if i ==1:\n",
    "                url = 'https://batdongsan.com.vn/ban-loai-bat-dong-san-khac-da-nang?cIds=362'\n",
    "            else:\n",
    "                url = f'https://batdongsan.com.vn/ban-loai-bat-dong-san-khac-da-nang/p{i}?cIds=362'\n",
    "            scrape_main_page(url)\n",
    "        except:\n",
    "            break\n",
    "except Exception:\n",
    "    print(\"An error occurred while scraping the main page.\")\n",
    "finally:\n",
    "    print(data_list)\n",
    "    df = pd.DataFrame(data_list)\n",
    "    df.to_csv('scraped_data_only_gianha_batdongsancomvn.csv',encoding=\"utf-8\", index=False)\n",
    "    print(\"Saved successfully\")\n",
    "driver.quit()"
   ]
  }
 ],
 "metadata": {
  "kernelspec": {
   "display_name": "Python 3",
   "language": "python",
   "name": "python3"
  },
  "language_info": {
   "codemirror_mode": {
    "name": "ipython",
    "version": 3
   },
   "file_extension": ".py",
   "mimetype": "text/x-python",
   "name": "python",
   "nbconvert_exporter": "python",
   "pygments_lexer": "ipython3",
   "version": "3.10.12"
  }
 },
 "nbformat": 4,
 "nbformat_minor": 2
}
