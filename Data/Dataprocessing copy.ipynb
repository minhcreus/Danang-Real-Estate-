{
 "cells": [
  {
   "cell_type": "code",
   "execution_count": 10,
   "metadata": {},
   "outputs": [],
   "source": [
    "import pandas as pd\n",
    "import numpy as np\n",
    "import seaborn as snb\n",
    "import matplotlib.pyplot as plt\n",
    "from geopy.geocoders import Nominatim\n",
    "from geopy.extra.rate_limiter import RateLimiter\n",
    "from geopy.distance import geodesic\n"
   ]
  },
  {
   "cell_type": "code",
   "execution_count": 11,
   "metadata": {},
   "outputs": [],
   "source": [
    "df = pd.read_csv(\"added latlon.csv\",encoding='utf-8')"
   ]
  },
  {
   "cell_type": "code",
   "execution_count": 12,
   "metadata": {},
   "outputs": [
    {
     "data": {
      "text/html": [
       "<div>\n",
       "<style scoped>\n",
       "    .dataframe tbody tr th:only-of-type {\n",
       "        vertical-align: middle;\n",
       "    }\n",
       "\n",
       "    .dataframe tbody tr th {\n",
       "        vertical-align: top;\n",
       "    }\n",
       "\n",
       "    .dataframe thead th {\n",
       "        text-align: right;\n",
       "    }\n",
       "</style>\n",
       "<table border=\"1\" class=\"dataframe\">\n",
       "  <thead>\n",
       "    <tr style=\"text-align: right;\">\n",
       "      <th></th>\n",
       "      <th>Address</th>\n",
       "      <th>Prices</th>\n",
       "      <th>Area</th>\n",
       "      <th>toFace</th>\n",
       "      <th>type</th>\n",
       "      <th>certificate</th>\n",
       "      <th>width</th>\n",
       "      <th>length</th>\n",
       "      <th>floors</th>\n",
       "      <th>Latitude</th>\n",
       "      <th>Longitude</th>\n",
       "    </tr>\n",
       "  </thead>\n",
       "  <tbody>\n",
       "    <tr>\n",
       "      <th>0</th>\n",
       "      <td>Đường An Thượng 18, Phường Mỹ An, Quận Ngũ Hà...</td>\n",
       "      <td>4,1 tỷ</td>\n",
       "      <td>60 m2</td>\n",
       "      <td>_</td>\n",
       "      <td>Nhà mặt tiền</td>\n",
       "      <td>Sổ hồng/ Sổ đỏ</td>\n",
       "      <td>4,5m</td>\n",
       "      <td>15m</td>\n",
       "      <td>5</td>\n",
       "      <td>16.048471</td>\n",
       "      <td>108.240602</td>\n",
       "    </tr>\n",
       "    <tr>\n",
       "      <th>1</th>\n",
       "      <td>Đường Trường Chinh, Phường Hòa An, Quận Cẩm L...</td>\n",
       "      <td>3,3 tỷ</td>\n",
       "      <td>90 m2</td>\n",
       "      <td>_</td>\n",
       "      <td>Nhà mặt tiền</td>\n",
       "      <td>Sổ hồng/ Sổ đỏ</td>\n",
       "      <td>5m</td>\n",
       "      <td>18m</td>\n",
       "      <td>2</td>\n",
       "      <td>16.059523</td>\n",
       "      <td>108.179155</td>\n",
       "    </tr>\n",
       "    <tr>\n",
       "      <th>2</th>\n",
       "      <td>Đường Ngô Quyền, Phường An Hải Bắc, Quận Sơn ...</td>\n",
       "      <td>15 tỷ</td>\n",
       "      <td>153 m2</td>\n",
       "      <td>_</td>\n",
       "      <td>Nhà mặt tiền</td>\n",
       "      <td>Sổ hồng/ Sổ đỏ</td>\n",
       "      <td>6m</td>\n",
       "      <td>27m</td>\n",
       "      <td>3</td>\n",
       "      <td>16.075624</td>\n",
       "      <td>108.231908</td>\n",
       "    </tr>\n",
       "    <tr>\n",
       "      <th>3</th>\n",
       "      <td>Đường Tiên Sơn 10, Phường Hòa Cường Nam, Quận...</td>\n",
       "      <td>6,5 tỷ</td>\n",
       "      <td>90 m2</td>\n",
       "      <td>_</td>\n",
       "      <td>Nhà mặt tiền</td>\n",
       "      <td>Sổ hồng/ Sổ đỏ</td>\n",
       "      <td>14m</td>\n",
       "      <td>7m</td>\n",
       "      <td>1</td>\n",
       "      <td>16.033474</td>\n",
       "      <td>108.221877</td>\n",
       "    </tr>\n",
       "    <tr>\n",
       "      <th>4</th>\n",
       "      <td>Đường Hoàng Đức Lương, Phường An Hải Bắc, Quậ...</td>\n",
       "      <td>11 tỷ</td>\n",
       "      <td>100 m2</td>\n",
       "      <td>_</td>\n",
       "      <td>Nhà mặt tiền</td>\n",
       "      <td>Sổ hồng/ Sổ đỏ</td>\n",
       "      <td>5m</td>\n",
       "      <td>20m</td>\n",
       "      <td>5</td>\n",
       "      <td>16.076632</td>\n",
       "      <td>108.232989</td>\n",
       "    </tr>\n",
       "    <tr>\n",
       "      <th>...</th>\n",
       "      <td>...</td>\n",
       "      <td>...</td>\n",
       "      <td>...</td>\n",
       "      <td>...</td>\n",
       "      <td>...</td>\n",
       "      <td>...</td>\n",
       "      <td>...</td>\n",
       "      <td>...</td>\n",
       "      <td>...</td>\n",
       "      <td>...</td>\n",
       "      <td>...</td>\n",
       "    </tr>\n",
       "    <tr>\n",
       "      <th>13854</th>\n",
       "      <td>Đường Nguyễn Thị Định, Phường An Hải Bắc, Quậ...</td>\n",
       "      <td>9,5 tỷ</td>\n",
       "      <td>90 m2</td>\n",
       "      <td>_</td>\n",
       "      <td>Nhà mặt tiền</td>\n",
       "      <td>---</td>\n",
       "      <td>---</td>\n",
       "      <td>---</td>\n",
       "      <td>3</td>\n",
       "      <td>16.082082</td>\n",
       "      <td>108.231948</td>\n",
       "    </tr>\n",
       "    <tr>\n",
       "      <th>13855</th>\n",
       "      <td>300/22 Đường Hải Phòng, Phường Hải Châu I, Qu...</td>\n",
       "      <td>2,85 tỷ</td>\n",
       "      <td>50 m2</td>\n",
       "      <td>Tây Nam</td>\n",
       "      <td>Nhà trong hẻm</td>\n",
       "      <td>Sổ hồng/ Sổ đỏ</td>\n",
       "      <td>5m</td>\n",
       "      <td>10m</td>\n",
       "      <td>2</td>\n",
       "      <td>16.072715</td>\n",
       "      <td>108.220794</td>\n",
       "    </tr>\n",
       "    <tr>\n",
       "      <th>13856</th>\n",
       "      <td>Đường Ông Ích Khiêm, Phường Thanh Bình, Quận ...</td>\n",
       "      <td>4,35 tỷ</td>\n",
       "      <td>57 m2</td>\n",
       "      <td>Đông Bắc</td>\n",
       "      <td>Nhà trong hẻm</td>\n",
       "      <td>---</td>\n",
       "      <td>5m</td>\n",
       "      <td>12m</td>\n",
       "      <td>3</td>\n",
       "      <td>16.075767</td>\n",
       "      <td>108.213537</td>\n",
       "    </tr>\n",
       "    <tr>\n",
       "      <th>13857</th>\n",
       "      <td>K814A/52 Đường Trần Cao Vân, Phường Thanh Khê...</td>\n",
       "      <td>3,35 tỷ</td>\n",
       "      <td>52 m2</td>\n",
       "      <td>Tây</td>\n",
       "      <td>Nhà trong hẻm</td>\n",
       "      <td>Sổ hồng/ Sổ đỏ</td>\n",
       "      <td>4,5m</td>\n",
       "      <td>12,5m</td>\n",
       "      <td>2</td>\n",
       "      <td>NaN</td>\n",
       "      <td>NaN</td>\n",
       "    </tr>\n",
       "    <tr>\n",
       "      <th>13858</th>\n",
       "      <td>Đường Hoàng Văn Thái, Phường Hòa Khánh Nam, Q...</td>\n",
       "      <td>2,99 tỷ</td>\n",
       "      <td>70 m2</td>\n",
       "      <td>_</td>\n",
       "      <td>Nhà mặt tiền</td>\n",
       "      <td>Sổ hồng/ Sổ đỏ</td>\n",
       "      <td>5m</td>\n",
       "      <td>---</td>\n",
       "      <td>2</td>\n",
       "      <td>16.055485</td>\n",
       "      <td>108.155377</td>\n",
       "    </tr>\n",
       "  </tbody>\n",
       "</table>\n",
       "<p>13859 rows × 11 columns</p>\n",
       "</div>"
      ],
      "text/plain": [
       "                                                 Address     Prices     Area  \\\n",
       "0       Đường An Thượng 18, Phường Mỹ An, Quận Ngũ Hà...    4,1 tỷ     60 m2   \n",
       "1       Đường Trường Chinh, Phường Hòa An, Quận Cẩm L...    3,3 tỷ     90 m2   \n",
       "2       Đường Ngô Quyền, Phường An Hải Bắc, Quận Sơn ...     15 tỷ    153 m2   \n",
       "3       Đường Tiên Sơn 10, Phường Hòa Cường Nam, Quận...    6,5 tỷ     90 m2   \n",
       "4       Đường Hoàng Đức Lương, Phường An Hải Bắc, Quậ...     11 tỷ    100 m2   \n",
       "...                                                  ...        ...      ...   \n",
       "13854   Đường Nguyễn Thị Định, Phường An Hải Bắc, Quậ...    9,5 tỷ     90 m2   \n",
       "13855   300/22 Đường Hải Phòng, Phường Hải Châu I, Qu...   2,85 tỷ     50 m2   \n",
       "13856   Đường Ông Ích Khiêm, Phường Thanh Bình, Quận ...   4,35 tỷ     57 m2   \n",
       "13857   K814A/52 Đường Trần Cao Vân, Phường Thanh Khê...   3,35 tỷ     52 m2   \n",
       "13858   Đường Hoàng Văn Thái, Phường Hòa Khánh Nam, Q...   2,99 tỷ     70 m2   \n",
       "\n",
       "         toFace           type     certificate width length floors   Latitude  \\\n",
       "0             _   Nhà mặt tiền  Sổ hồng/ Sổ đỏ  4,5m    15m      5  16.048471   \n",
       "1             _   Nhà mặt tiền  Sổ hồng/ Sổ đỏ    5m    18m      2  16.059523   \n",
       "2             _   Nhà mặt tiền  Sổ hồng/ Sổ đỏ    6m    27m      3  16.075624   \n",
       "3             _   Nhà mặt tiền  Sổ hồng/ Sổ đỏ   14m     7m      1  16.033474   \n",
       "4             _   Nhà mặt tiền  Sổ hồng/ Sổ đỏ    5m    20m      5  16.076632   \n",
       "...         ...            ...             ...   ...    ...    ...        ...   \n",
       "13854         _   Nhà mặt tiền             ---   ---    ---      3  16.082082   \n",
       "13855   Tây Nam  Nhà trong hẻm  Sổ hồng/ Sổ đỏ    5m    10m      2  16.072715   \n",
       "13856  Đông Bắc  Nhà trong hẻm             ---    5m    12m      3  16.075767   \n",
       "13857       Tây  Nhà trong hẻm  Sổ hồng/ Sổ đỏ  4,5m  12,5m      2        NaN   \n",
       "13858         _   Nhà mặt tiền  Sổ hồng/ Sổ đỏ    5m    ---      2  16.055485   \n",
       "\n",
       "        Longitude  \n",
       "0      108.240602  \n",
       "1      108.179155  \n",
       "2      108.231908  \n",
       "3      108.221877  \n",
       "4      108.232989  \n",
       "...           ...  \n",
       "13854  108.231948  \n",
       "13855  108.220794  \n",
       "13856  108.213537  \n",
       "13857         NaN  \n",
       "13858  108.155377  \n",
       "\n",
       "[13859 rows x 11 columns]"
      ]
     },
     "execution_count": 12,
     "metadata": {},
     "output_type": "execute_result"
    }
   ],
   "source": [
    "df"
   ]
  },
  {
   "cell_type": "markdown",
   "metadata": {},
   "source": [
    "## Adding longitude and latitude of each address using geopy"
   ]
  },
  {
   "cell_type": "code",
   "execution_count": 13,
   "metadata": {},
   "outputs": [],
   "source": [
    "geolocator = Nominatim(user_agent=\"locatorrrr\")\n",
    "\n",
    "def get_lat_lon(address):\n",
    "    try:\n",
    "        location = geolocator.geocode(address)\n",
    "        if location:\n",
    "            return (location.latitude, location.longitude)\n",
    "        else:\n",
    "            return (None, None)\n",
    "    except Exception as e:\n",
    "        return (None, None)"
   ]
  },
  {
   "cell_type": "code",
   "execution_count": 14,
   "metadata": {},
   "outputs": [],
   "source": [
    "df['Latitude'], df['Longitude'] = zip(*df['Address'].apply(get_lat_lon))"
   ]
  },
  {
   "cell_type": "markdown",
   "metadata": {},
   "source": [
    "## Cleaning Price column"
   ]
  },
  {
   "cell_type": "code",
   "execution_count": 15,
   "metadata": {},
   "outputs": [
    {
     "name": "stdout",
     "output_type": "stream",
     "text": [
      "<class 'pandas.core.frame.DataFrame'>\n",
      "RangeIndex: 13859 entries, 0 to 13858\n",
      "Data columns (total 11 columns):\n",
      " #   Column       Non-Null Count  Dtype  \n",
      "---  ------       --------------  -----  \n",
      " 0   Address      13859 non-null  object \n",
      " 1   Prices       13859 non-null  object \n",
      " 2   Area         13859 non-null  object \n",
      " 3   toFace       13859 non-null  object \n",
      " 4   type         13859 non-null  object \n",
      " 5   certificate  13859 non-null  object \n",
      " 6   width        13859 non-null  object \n",
      " 7   length       13859 non-null  object \n",
      " 8   floors       13859 non-null  object \n",
      " 9   Latitude     12200 non-null  float64\n",
      " 10  Longitude    12200 non-null  float64\n",
      "dtypes: float64(2), object(9)\n",
      "memory usage: 1.2+ MB\n"
     ]
    }
   ],
   "source": [
    "df.info()"
   ]
  },
  {
   "cell_type": "code",
   "execution_count": 16,
   "metadata": {},
   "outputs": [],
   "source": [
    "df['Prices'] = df['Prices'].apply(lambda x: x.strip(' tỷ ').replace(' ', ''))\n",
    "df['Prices'] = df['Prices'].apply(lambda x: x.replace(',', '.'))\n",
    "df.loc[:,'Prices'] = pd.to_numeric(df['Prices'], errors='coerce')"
   ]
  },
  {
   "cell_type": "code",
   "execution_count": 17,
   "metadata": {},
   "outputs": [
    {
     "data": {
      "text/plain": [
       "array([4.1, 3.3, 15.0, 6.5, 11.0, 7.2, 2.9, 3.5, 4.7, 25.0, 4.6, 5.2, 6.6,\n",
       "       5.7, 6.7, 3.75, 6.9, 6.8, 4.75, 6.4, 2.75, 2.6, 3.8, 3.35, 2.55,\n",
       "       1.75, 3.69, 5.95, 6.0, 2.8, 3.2, 2.15, 3.65, 1.65, 2.7, 3.15, 1.85,\n",
       "       2.83, 1.49, 5.35, 3.9, 6.35, 3.96, 5.8, 8.5, 4.15, 4.9, 7.5, 5.0,\n",
       "       4.8, 18.8, 4.4, 3.55, 14.0, 24.0, 3.85, 2.85, 5.6, 4.3, 4.2, 20.0,\n",
       "       5.4, 17.9, 2.5, 2.25, 2.2, 2.1, 1.5, 2.05, 7.3, 16.5, 14.2, 3.995,\n",
       "       16.0, 100.0, 9.0, 13.0, 12.0, 9.8, 4.09, 4.5, 5.3, 8.3, 7.1, 24.45,\n",
       "       3.45, 23.5, 15.7, 14.7, 17.0, 6.1, 7.65, 31.0, 8.0, 14.5, 10.5,\n",
       "       9.5, 22.3, 22.1, 6.2, 13.7, 5.9, 55.0, 7.0, 69.0, 8.9, 7.45, 39.0,\n",
       "       10.0, 30.0, 18.0, 22.0, 20.5, 79.0, 19.5, 35.0, 28.0, 6.25, 9.4,\n",
       "       5.5, 27.0, 7.7, 11.5, 10.8, 7.9, 65.0, 32.5, 16.3, 8.2, 13.3, 21.5,\n",
       "       8.4, 17.5, 26.5, 13.2, 10.3, 4.95, 24.5, 13.5, 42.0, 29.0, 38.0,\n",
       "       12.9, 3.95, 16.7, 14.75, 8.7, 5.895, 5.095, 5.395, 7.95, 15.3,\n",
       "       10.25, 10.9, 4.28, 1.79, 3.88, 2.95, 3.6, 2.3, 2.74, 2.35, 11.8,\n",
       "       8.49, 32.0, 7.6, 15.5, 17.2, nan, 5.18, 16.8, 4.0, 6.999, 28.7,\n",
       "       54.0, 1.95, 2.88, 4.25, 1.89, 4.55, 2.68, 2.99, 2.444, 4.35, 2.0,\n",
       "       4.38, 3.29, 3.1, 1.27, 1.68, 2.45, 3.25, 2.67, 2.98, 2.73, 4.29,\n",
       "       2.97, 3.7, 3.68, 2.87, 2.79, 4.999, 4.59, 7.8, 3.97, 3.28, 3.4,\n",
       "       2.4, 1.59, 10.2, 5.75, 3.18, 18.5, 2.19, 2.65, 4.05, 5.85, 4.45,\n",
       "       3.98, 5.15, 6.95, 4.48, 9.7, 13.6, 3.0, 4.85, 11.7, 3.33, 5.99,\n",
       "       5.59, 53.0, 8.8, 8.6, 40.0, 52.0, 11.6, 7.78, 13.78, 29.95, 9.3,\n",
       "       34.0, 5.19, 10.6, 6.98, 19.0, 17.8, 72.0, 59.0, 12.5, 5.89, 7.15,\n",
       "       4.65, 7.75, 93.0, 12.48, 4.599, 3.19, 7.29, 49.0, 33.0, 6.3, 5.79,\n",
       "       11.49, 4.19, 16.999, 8.799, 7.899, 15.999, 13.999, 53.999, 112.999,\n",
       "       10.299, 14.199, 9.9, 24.998, 10.1, 5.999, 13.4, 23.0, 11.999,\n",
       "       21.999, 45.0, 10.999, 5.989, 26.8, 30.999, 11.3, 5.899, 17.3, 58.0,\n",
       "       16.799, 33.5, 9.399, 65.999, 34.999, 66.6, 37.0, 15.799, 139.999,\n",
       "       17.999, 189.999, 9.799, 26.0, 7.69, 5.49, 6.49, 5.1, 5.65, 7.85,\n",
       "       2.48, 28.5, 18.6, 15.9, 3.05, 1.98, 12.95, 13.8, 12.75, 18.2, 9.2,\n",
       "       5.55, 18.9, 6.75, 6.85, 8.1, 9.6, 22.6, 21.2, 5.96, 3.82, 4.79,\n",
       "       6.069, 4.99, 4.49, 21.0, 6.99, 3.59, 2.89, 3.63, 2.62, 5.39, 3.39,\n",
       "       3.09, 5.69, 1.9, 7.68, 14.4, 12.8, 10.7, 80.0, 15.2, 9.1, 12.7,\n",
       "       7.4, 27.5, 3.999, 3.79, 3.53, 4.39, 4.58, 4.98, 2.58, 5.93, 56.99,\n",
       "       9.95, 2.47, 6.55, 10.45, 2.39, 37.9, 11.4, 1.64, 36.0, 115.0, 29.9,\n",
       "       28.8, 25.5, 75.0, 19.7, 85.0, 30.5, 7.35, 135.0, 1.3, 1.28, 5.795,\n",
       "       17.7, 47.0, 12.4, 5.68, 6.199, 12.1, 5.29, 12.05, 12.03, 5.25,\n",
       "       20.39, 20.4, 20.2, 21.79, 3.42, 6.186, 2.879, 4.23, 3.888, 3.52,\n",
       "       4.268, 4.279, 3.99, 3.379, 5.56, 6.45, 2.13, 2.29, 7.79, 8.29,\n",
       "       10.48, 21.8, 10.79, 12.3, 46.5, 22.9, 51.5, 83.0, 1.7, 2.49, 11.9,\n",
       "       160.0, 1.87, 2.18, 3.92, 5.48, 2.94, 1.8, 64.0, 47.5, 24.4, 3.58,\n",
       "       26.7, 41.0, 2.395, 2.195, 6.68, 16.4, 9.45, 8.75, 11.45, 71.0,\n",
       "       1.37, 2.77, 8.88, 1.0, 3.649, 7.89, 8.15, 18.3, 19.2, 2.78, 84.0,\n",
       "       56.0, 125.0, 70.0, 27.9, 3.555, 7.05, 4.995, 74.0, 11.2, 78.0,\n",
       "       11.99, 6.27, 5.45, 2.59, 3.32, 1.99, 4.17, 1.45, 4.08, 8.89, 7.19,\n",
       "       12.2, 17.6, 4.895, 9.25, 5.495, 6.65, 22.5, 4.68, 25.999, 6.15,\n",
       "       3.89, 1.05, 1.35, 4.69, 3.62, 6.79, 3.08, 2.57, 2.56, 2.63, 2.27,\n",
       "       3.67, 15.6, 2.43, 25.85, 4.36, 2.53, 37.79, 5.58, 88.0, 2.08, 1.55,\n",
       "       1.4, 7.98, 2.42, 1.39, 27.7, 16.1, 17.058, 14.88, 14.9, 14.1,\n",
       "       28.49, 2.489, 2.28, 2.34, 2.09, 2.93, 3.579, 1.83, 2.69, 1.86,\n",
       "       3.789, 6.19, 22.4, 29.5, 21.9, 21.99, 26.9, 8.65, 23.8, 39.999,\n",
       "       60.0, 31.5, 170.0, 11.95, 10.99, 2.72, 63.8, 6.78, 8.499, 4.27,\n",
       "       3.49, 34.5, 8.25, 33.98, 23.4, 57.0, 15.8, 2.76, 1.97, 6.395, 37.4,\n",
       "       3.449, 2.459, 3.17, 14.3, 3.84, 18.1, 3.14, 3.74, 6.39, 17.4, 1.94,\n",
       "       67.0, 9.15, 18.7, 10.65, 2.222, 3.37, 4.16, 3.38, 2.23, 2.14,\n",
       "       19.45, 53.9, 7.999, 3.333, 9.99, 49.5, 3.07, 1.72, 13.79, 18.4,\n",
       "       13.95, 2.049, 3.87, 2.399, 1.74, 6.48, 9.55, 27.8, 8.69, 6.96,\n",
       "       8.699, 20.9, 2.24, 4.18, 25.9, 11.1, 16.2, 3.61, 22.7, 12.6, 1.6,\n",
       "       1.77, 12.99, 148.0, 28.9, 2.799, 1.48, 7.39, 1.93, 21.98, 15.1,\n",
       "       21.3, 67.3, 87.0, 173.5, 19.6, 28.85, 22.15, 31.75, 43.0, 10.95,\n",
       "       1.69, 8.39, 6.18, 21.68, 3.399, 4.89, 56.8, 4.97, 6.05, 3.595,\n",
       "       6.699, 186.0, 4.83, 17.99, 46.0, 14.8, 13.65, 43.5, 14.49, 8.05,\n",
       "       7.99, 41.98, 13.85, 5.123, 150.0, 120.0, 10.4, 190.0, 50.0, 23.2,\n",
       "       7.38, 1.78, 12.35, 7.48, 35.9, 13.1, 13.9, 5.05, 138.0, 6.777,\n",
       "       189.0, 23.9, 3.599, 4.389, 4.395, 36.5, 1.71, 5.09, 3.679, 2.38,\n",
       "       8.95, 17.1, 4.399, 6.495, 6.795, 7.195, 23.45, 1.92, 7.25, 3.479,\n",
       "       61.0, 1.09, 3.36, 2.999, 2.37, 26.3, 4.94, 44.5, 39.9, 16.6, 13.99,\n",
       "       20.8, 3.03, 38.5, 13.25, 23.25, 15.75, 1.52, 2.92, 3.21, 2.549,\n",
       "       3.48, 38.9, 1.38, 1.25, 3.02, 10.05, 32.3, 51.0, 14.95, 16.9,\n",
       "       5.995, 2.375, 7.55, 16.99, 5.199, 33.3, 1.82, 18.39, 4.26, 31.8,\n",
       "       10.75, 14.65, 66.5, 24.9, 4.33, 36.8, 118.0, 48.0, 1.1, 315.0,\n",
       "       3.57, 1.2, 15.4, 3.295, 2.66, 13.15, 270.0, 44.0, 2.82, 24.6,\n",
       "       285.0, 4.498, 11.25, 4.62, 78.8, 14.6, 29.6, 35.5, 8.35, 30.8,\n",
       "       19.8, 1.88, 6.595, 5.195, 3.495, 5.695, 31.3], dtype=object)"
      ]
     },
     "execution_count": 17,
     "metadata": {},
     "output_type": "execute_result"
    }
   ],
   "source": [
    "df[\"Prices\"].unique()"
   ]
  },
  {
   "cell_type": "markdown",
   "metadata": {},
   "source": [
    "## Cleaning area"
   ]
  },
  {
   "cell_type": "code",
   "execution_count": 18,
   "metadata": {},
   "outputs": [
    {
     "data": {
      "text/plain": [
       "array([' 60 m2', ' 90 m2', ' 153 m2', ' 100 m2', ' 313 m2', ' 80 m2',\n",
       "       ' 125 m2', ' 105 m2', ' 75 m2', ' 113 m2', ' 150 m2', ' 120 m2',\n",
       "       ' 95 m2', ' 50 m2', ' 70 m2', ' 85 m2', ' 132 m2', ' 65 m2',\n",
       "       ' 55 m2', ' 110 m2', ' 36 m2', ' 67 m2', ' 170 m2', ' 250 m2',\n",
       "       ' 126 m2', ' 140 m2', ' 145 m2', ' 135 m2', ' 310 m2', ' 160 m2',\n",
       "       ' 78 m2', ' 76 m2', ' 84 m2', ' 66 m2', ' 56 m2', ' 62 m2',\n",
       "       ' 68 m2', ' 450 m2', ' 112 m2', ' 63 m2', ' 82 m2', ' 106 m2',\n",
       "       ' 143 m2', ' 123 m2', ' 155 m2', ' 121 m2', ' 234 m2', ' 278 m2',\n",
       "       ' 190 m2', ' 81 m2', ' 99 m2', ' 174 m2', ' 209 m2', ' 255 m2',\n",
       "       ' 198 m2', ' 207 m2', ' 231 m2', ' 87 m2', ' 98 m2', ' 700 m2',\n",
       "       ' 404 m2', ' 77 m2', ' 118 m2', ' 74 m2', ' 86 m2', ' 69 m2',\n",
       "       ' 92 m2', ' 277 m2', ' 102 m2', ' 180 m2', ' 144 m2', ' 228 m2',\n",
       "       ' 169 m2', ' 97 m2', ' 200 m2', ' 142 m2', ' 137 m2', ' 151 m2',\n",
       "       ' 108 m2', ' 96 m2', ' 54 m2', ' 58 m2', ' 89 m2', ' 192 m2',\n",
       "       ' 93 m2', ' 51 m2', ' 380 m2', ' 560 m2', ' 210 m2', ' 115 m2',\n",
       "       ' 130 m2', ' 107 m2', ' 109 m2', ' 59 m2', ' 72 m2', ' 214 m2',\n",
       "       ' 71 m2', ' 146 m2', ' 230 m2', ' 171 m2', ' 204 m2', ' 395 m2',\n",
       "       ' 252 m2', ' 61 m2', ' 162 m2', ' 104 m2', ' 138 m2', ' 168 m2',\n",
       "       ' 111 m2', ' 117 m2', ' 88 m2', ' 185 m2', ' 370 m2', ' 384 m2',\n",
       "       ' 53 m2', ' 116 m2', ' 147 m2', ' 270 m2', ' 300 m2', ' 40 m2',\n",
       "       ' 52 m2', ' 42 m2', ' 35 m2', ' 30 m2', ' 44 m2', ' 64 m2',\n",
       "       ' 73 m2', ' 41 m2', ' 101 m2', ' 34 m2', ' 83 m2', ' 79 m2',\n",
       "       ' 114 m2', ' 57 m2', ' 94 m2', ' 184 m2', ' 133 m2', ' 48 m2',\n",
       "       ' 400 m2', ' 350 m2', ' 420 m2', ' 212 m2', ' 220 m2', ' 500 m2',\n",
       "       ' 45 m2', ' 122 m2', ' 43 m2', ' 330 m2', ' 940 m2', ' 460 m2',\n",
       "       ' 726 m2', ' 152 m2', ' 242 m2', ' 430 m2', ' 329 m2',\n",
       "       ' 13.600 m2', ' 248 m2', ' 1.000 m2', ' 128 m2', ' 13.000 m2',\n",
       "       ' 158 m2', ' 596 m2', ' 148 m2', ' 375 m2', ' 139 m2', ' 119 m2',\n",
       "       ' 236 m2', ' 495 m2', ' 134 m2', ' 175 m2', ' 103 m2', ' 208 m2',\n",
       "       ' 37 m2', ' 187 m2', ' 412 m2', ' 131 m2', ' 226 m2', ' 342 m2',\n",
       "       ' 49 m2', ' 136 m2', ' 265 m2', ' 129 m2', ' 47 m2', ' 411 m2',\n",
       "       ' 46 m2', ' 188 m2', ' 195 m2', ' 124 m2', ' 91 m2', ' 260 m2',\n",
       "       ' 22 m2', ' 149 m2', ' 240 m2', ' 490 m2', ' 166 m2', ' 167 m2',\n",
       "       ' 176 m2', ' 290 m2', ' 233 m2', ' 1.180 m2', ' 194 m2', ' 191 m2',\n",
       "       ' 245 m2', ' 618 m2', ' 480 m2', ' 216 m2', ' 127 m2', ' 540 m2',\n",
       "       ' 18 m2', ' 182 m2', ' 309 m2', ' 308 m2', ' 800 m2', ' 159 m2',\n",
       "       ' 294 m2', ' 685 m2', ' 24 m2', ' 156 m2', ' 178 m2', ' 163 m2',\n",
       "       ' 456 m2', ' 189 m2', ' 338 m2', ' 225 m2', ' 221 m2', ' 900 m2',\n",
       "       ' 164 m2', ' 625 m2', ' 493 m2', ' 38 m2', ' 306 m2', ' 246 m2',\n",
       "       ' 595 m2', ' 472 m2', ' 372 m2', ' 165 m2', ' 232 m2', ' 600 m2',\n",
       "       ' 31 m2', ' 288 m2', ' 218 m2', ' 297 m2', ' 161 m2', ' 1.100 m2',\n",
       "       ' 247 m2', ' 1.221 m2', ' 25 m2', ' 172 m2', ' 39 m2', ' 33 m2',\n",
       "       ' 256 m2', ' 29 m2', ' 202 m2', ' 213 m2', ' 154 m2', ' 280 m2',\n",
       "       ' 530 m2', ' 26 m2', ' 244 m2', ' 227 m2', ' 206 m2', ' 205 m2',\n",
       "       ' 203 m2', ' 223 m2', ' 1.250 m2', ' 215 m2', ' 326 m2', ' 179 m2',\n",
       "       ' 235 m2', ' 27 m2', ' 715 m2', ' 28 m2', ' 251 m2', ' 211 m2',\n",
       "       ' 186 m2', ' 343 m2', ' 257 m2', ' 320 m2', ' 802 m2', ' 239 m2',\n",
       "       ' 650 m2', ' 201 m2', ' 177 m2', ' 351 m2', ' 282 m2', ' 32 m2',\n",
       "       ' 217 m2', ' 196 m2', ' 197 m2', ' 2.400 m2', ' 550 m2', ' 305 m2',\n",
       "       ' 241 m2', ' 425 m2', ' 323 m2', ' 870 m2', ' 1.005 m2', ' 462 m2',\n",
       "       ' 141 m2', ' 592 m2', ' 428 m2', ' 429 m2', ' 285 m2', ' 416 m2',\n",
       "       ' 403 m2', ' 292 m2', ' 07 m2', ' 496 m2', ' 413 m2', ' 1.096 m2',\n",
       "       ' 307 m2', ' 268 m2', ' 1.200 m2', ' 677 m2', ' 328 m2', ' 286 m2',\n",
       "       ' 173 m2', ' 264 m2', ' 1.136 m2', ' 356 m2', ' KXĐ', ' 311 m2',\n",
       "       ' 312 m2', ' 276 m2', ' 296 m2', ' 1.258 m2', ' 183 m2', ' 281 m2',\n",
       "       ' 438 m2', ' 340 m2', ' 465 m2', ' 386 m2', ' 390 m2', ' 3.000 m2',\n",
       "       ' 590 m2', ' 253 m2', ' 401 m2', ' 505 m2', ' 271 m2', ' 436 m2',\n",
       "       ' 1.300 m2', ' 362 m2', ' 768 m2', ' 325 m2', ' 222 m2', ' 406 m2',\n",
       "       ' 630 m2', ' 740 m2', ' 331 m2', ' 181 m2', ' 274 m2', ' 485 m2',\n",
       "       ' 157 m2', ' 315 m2', ' 14 m2', ' 249 m2', ' 461 m2', ' 474 m2',\n",
       "       ' 335 m2', ' 272 m2', ' 275 m2', ' 21 m2', ' 6.115 m2', ' 620 m2',\n",
       "       ' 440 m2', ' 594 m2', ' 466 m2', ' 341 m2', ' 238 m2', ' 287 m2',\n",
       "       ' 322 m2', ' 259 m2', ' 267 m2', ' 13 m2', ' 352 m2', ' 317 m2',\n",
       "       ' 339 m2', ' 324 m2', ' 938 m2', ' 336 m2', ' 950 m2', ' 23 m2',\n",
       "       ' 366 m2', ' 2.103 m2', ' 345 m2', ' 682 m2'], dtype=object)"
      ]
     },
     "execution_count": 18,
     "metadata": {},
     "output_type": "execute_result"
    }
   ],
   "source": [
    "df[\"Area\"].unique()"
   ]
  },
  {
   "cell_type": "code",
   "execution_count": 19,
   "metadata": {},
   "outputs": [],
   "source": [
    "df['Area'] = df['Area'].apply(lambda x: x.strip(' m2 ').replace(' ', ''))\n",
    "df.loc[:,'Area'] = pd.to_numeric(df['Area'], errors='coerce')"
   ]
  },
  {
   "cell_type": "code",
   "execution_count": 20,
   "metadata": {},
   "outputs": [],
   "source": [
    "df.loc[df.Area==0,'Area']=np.nan"
   ]
  },
  {
   "cell_type": "code",
   "execution_count": 21,
   "metadata": {},
   "outputs": [
    {
     "data": {
      "text/plain": [
       "array([60.0, 90.0, 153.0, 100.0, 313.0, 80.0, 125.0, 105.0, 75.0, 113.0,\n",
       "       150.0, 120.0, 95.0, 50.0, 70.0, 85.0, 13.0, 65.0, 55.0, 110.0,\n",
       "       36.0, 67.0, 170.0, 126.0, 140.0, 145.0, 135.0, 310.0, 160.0, 78.0,\n",
       "       76.0, 84.0, 66.0, 56.0, 6.0, 68.0, 450.0, 11.0, 63.0, 8.0, 106.0,\n",
       "       143.0, 123.0, 155.0, 121.0, 34.0, 190.0, 81.0, 99.0, 174.0, 9.0,\n",
       "       198.0, 7.0, 31.0, 87.0, 98.0, 700.0, 404.0, 77.0, 118.0, 74.0,\n",
       "       86.0, 69.0, 10.0, 180.0, 144.0, 169.0, 97.0, nan, 14.0, 137.0,\n",
       "       151.0, 108.0, 96.0, 54.0, 58.0, 89.0, 19.0, 93.0, 51.0, 380.0,\n",
       "       560.0, 115.0, 130.0, 107.0, 109.0, 59.0, 71.0, 146.0, 30.0, 171.0,\n",
       "       4.0, 395.0, 5.0, 61.0, 16.0, 104.0, 138.0, 168.0, 111.0, 117.0,\n",
       "       88.0, 185.0, 370.0, 384.0, 53.0, 116.0, 147.0, 300.0, 40.0, 35.0,\n",
       "       44.0, 64.0, 73.0, 41.0, 101.0, 83.0, 79.0, 114.0, 57.0, 94.0,\n",
       "       184.0, 133.0, 48.0, 400.0, 350.0, 420.0, 1.0, 500.0, 45.0, 43.0,\n",
       "       330.0, 940.0, 460.0, 726.0, 15.0, 430.0, 329.0, 13.6, 128.0, 158.0,\n",
       "       596.0, 148.0, 375.0, 139.0, 119.0, 495.0, 134.0, 175.0, 103.0,\n",
       "       37.0, 187.0, 131.0, 49.0, 136.0, 129.0, 47.0, 411.0, 46.0, 188.0,\n",
       "       195.0, 124.0, 91.0, 149.0, 490.0, 166.0, 167.0, 176.0, 33.0, 1.18,\n",
       "       194.0, 191.0, 618.0, 480.0, 127.0, 540.0, 18.0, 309.0, 308.0,\n",
       "       800.0, 159.0, 685.0, 156.0, 178.0, 163.0, 456.0, 189.0, 338.0,\n",
       "       900.0, 164.0, 625.0, 493.0, 38.0, 306.0, 595.0, 165.0, 3.0, 600.0,\n",
       "       161.0, 1.1, 1.221, 17.0, 39.0, 154.0, 530.0, 1.25, 326.0, 179.0,\n",
       "       715.0, 186.0, 343.0, 320.0, 650.0, 177.0, 351.0, 196.0, 197.0, 0.4,\n",
       "       550.0, 305.0, 425.0, 323.0, 870.0, 1.005, 141.0, 428.0, 429.0,\n",
       "       416.0, 403.0, 496.0, 413.0, 1.096, 307.0, 1.2, 677.0, 328.0, 173.0,\n",
       "       1.136, 356.0, 311.0, 1.258, 183.0, 438.0, 340.0, 465.0, 386.0,\n",
       "       390.0, 590.0, 401.0, 505.0, 436.0, 1.3, 768.0, 325.0, 406.0, 630.0,\n",
       "       740.0, 331.0, 181.0, 485.0, 157.0, 315.0, 461.0, 474.0, 335.0,\n",
       "       6.115, 620.0, 440.0, 594.0, 466.0, 341.0, 317.0, 339.0, 324.0,\n",
       "       938.0, 336.0, 950.0, 366.0, 0.103, 345.0], dtype=object)"
      ]
     },
     "execution_count": 21,
     "metadata": {},
     "output_type": "execute_result"
    }
   ],
   "source": [
    "df[\"Area\"].unique()"
   ]
  },
  {
   "cell_type": "markdown",
   "metadata": {},
   "source": [
    "## Cleaning direction"
   ]
  },
  {
   "cell_type": "code",
   "execution_count": 22,
   "metadata": {},
   "outputs": [
    {
     "data": {
      "text/plain": [
       "array(['_', 'Tây', 'Đông', 'Tây Bắc', 'Đông Bắc', 'Đông Nam', 'Tây Nam',\n",
       "       'Bắc', 'Nam'], dtype=object)"
      ]
     },
     "execution_count": 22,
     "metadata": {},
     "output_type": "execute_result"
    }
   ],
   "source": [
    "df['toFace'].unique()"
   ]
  },
  {
   "cell_type": "code",
   "execution_count": 23,
   "metadata": {},
   "outputs": [],
   "source": [
    "df['toFace']=df['toFace'].apply(lambda x : x.replace('_', 'Không'))"
   ]
  },
  {
   "cell_type": "code",
   "execution_count": 24,
   "metadata": {},
   "outputs": [
    {
     "data": {
      "text/plain": [
       "array(['Không', 'Tây', 'Đông', 'Tây Bắc', 'Đông Bắc', 'Đông Nam',\n",
       "       'Tây Nam', 'Bắc', 'Nam'], dtype=object)"
      ]
     },
     "execution_count": 24,
     "metadata": {},
     "output_type": "execute_result"
    }
   ],
   "source": [
    "df[\"toFace\"].unique()"
   ]
  },
  {
   "cell_type": "markdown",
   "metadata": {},
   "source": [
    "## Cleaning Certificate"
   ]
  },
  {
   "cell_type": "code",
   "execution_count": 25,
   "metadata": {},
   "outputs": [
    {
     "data": {
      "text/plain": [
       "array(['Sổ hồng/ Sổ đỏ', '---', 'Giấy tờ hợp lệ'], dtype=object)"
      ]
     },
     "execution_count": 25,
     "metadata": {},
     "output_type": "execute_result"
    }
   ],
   "source": [
    "df[\"certificate\"].unique()"
   ]
  },
  {
   "cell_type": "code",
   "execution_count": 26,
   "metadata": {},
   "outputs": [],
   "source": [
    "df['certificate'] = df['certificate'].map({\n",
    "    'Sổ hồng/ Sổ đỏ': 1,\n",
    "    'Giấy tờ hợp lệ': 1,\n",
    "    '---': 0\n",
    "})"
   ]
  },
  {
   "cell_type": "markdown",
   "metadata": {},
   "source": [
    "## Cleaning width and length"
   ]
  },
  {
   "cell_type": "code",
   "execution_count": 27,
   "metadata": {},
   "outputs": [],
   "source": [
    "df['width'] = df['width'].apply(lambda x: x.strip(' m ').replace(' ', '').replace(',','.'))\n",
    "df['width'] = df['width'].astype(str).apply(lambda x: re.sub(r'^\\.', '', x)).apply(lambda x: re.sub(r'\\D+', '.', x)).apply(lambda x: re.sub(r'\\.$', '', x))"
   ]
  },
  {
   "cell_type": "code",
   "execution_count": 28,
   "metadata": {},
   "outputs": [],
   "source": [
    "df['length'] = df['length'].apply(lambda x: x.strip(' m ').replace(' ', '').replace(',','.'))\n",
    "df['length'] = df['length'].astype(str).apply(lambda x: re.sub(r'\\.$', '', x)).apply(lambda x: re.sub(r'\\.{2,}', '.', x))\n"
   ]
  },
  {
   "cell_type": "code",
   "execution_count": 29,
   "metadata": {},
   "outputs": [],
   "source": [
    "df.loc[:,'width'] = pd.to_numeric(df['width'], errors='coerce')\n",
    "df.loc[:,'length'] = pd.to_numeric(df['length'], errors='coerce')"
   ]
  },
  {
   "cell_type": "code",
   "execution_count": 30,
   "metadata": {},
   "outputs": [],
   "source": [
    "df.loc[df.width==0,['width']]=np.nan\n",
    "df.loc[df.length==0,['length']]=np.nan"
   ]
  },
  {
   "cell_type": "code",
   "execution_count": 31,
   "metadata": {},
   "outputs": [
    {
     "data": {
      "text/html": [
       "<div>\n",
       "<style scoped>\n",
       "    .dataframe tbody tr th:only-of-type {\n",
       "        vertical-align: middle;\n",
       "    }\n",
       "\n",
       "    .dataframe tbody tr th {\n",
       "        vertical-align: top;\n",
       "    }\n",
       "\n",
       "    .dataframe thead th {\n",
       "        text-align: right;\n",
       "    }\n",
       "</style>\n",
       "<table border=\"1\" class=\"dataframe\">\n",
       "  <thead>\n",
       "    <tr style=\"text-align: right;\">\n",
       "      <th></th>\n",
       "      <th>Address</th>\n",
       "      <th>Prices</th>\n",
       "      <th>Area</th>\n",
       "      <th>toFace</th>\n",
       "      <th>type</th>\n",
       "      <th>certificate</th>\n",
       "      <th>width</th>\n",
       "      <th>length</th>\n",
       "      <th>floors</th>\n",
       "      <th>Latitude</th>\n",
       "      <th>Longitude</th>\n",
       "    </tr>\n",
       "  </thead>\n",
       "  <tbody>\n",
       "    <tr>\n",
       "      <th>0</th>\n",
       "      <td>Đường An Thượng 18, Phường Mỹ An, Quận Ngũ Hà...</td>\n",
       "      <td>4.1</td>\n",
       "      <td>60.0</td>\n",
       "      <td>Không</td>\n",
       "      <td>Nhà mặt tiền</td>\n",
       "      <td>1</td>\n",
       "      <td>4.5</td>\n",
       "      <td>15.0</td>\n",
       "      <td>5</td>\n",
       "      <td>16.048471</td>\n",
       "      <td>108.240602</td>\n",
       "    </tr>\n",
       "    <tr>\n",
       "      <th>1</th>\n",
       "      <td>Đường Trường Chinh, Phường Hòa An, Quận Cẩm L...</td>\n",
       "      <td>3.3</td>\n",
       "      <td>90.0</td>\n",
       "      <td>Không</td>\n",
       "      <td>Nhà mặt tiền</td>\n",
       "      <td>1</td>\n",
       "      <td>5.0</td>\n",
       "      <td>18.0</td>\n",
       "      <td>2</td>\n",
       "      <td>16.059523</td>\n",
       "      <td>108.179155</td>\n",
       "    </tr>\n",
       "    <tr>\n",
       "      <th>2</th>\n",
       "      <td>Đường Ngô Quyền, Phường An Hải Bắc, Quận Sơn ...</td>\n",
       "      <td>15.0</td>\n",
       "      <td>153.0</td>\n",
       "      <td>Không</td>\n",
       "      <td>Nhà mặt tiền</td>\n",
       "      <td>1</td>\n",
       "      <td>6.0</td>\n",
       "      <td>27.0</td>\n",
       "      <td>3</td>\n",
       "      <td>16.075624</td>\n",
       "      <td>108.231908</td>\n",
       "    </tr>\n",
       "    <tr>\n",
       "      <th>3</th>\n",
       "      <td>Đường Tiên Sơn 10, Phường Hòa Cường Nam, Quận...</td>\n",
       "      <td>6.5</td>\n",
       "      <td>90.0</td>\n",
       "      <td>Không</td>\n",
       "      <td>Nhà mặt tiền</td>\n",
       "      <td>1</td>\n",
       "      <td>14.0</td>\n",
       "      <td>7.0</td>\n",
       "      <td>1</td>\n",
       "      <td>16.033474</td>\n",
       "      <td>108.221877</td>\n",
       "    </tr>\n",
       "    <tr>\n",
       "      <th>4</th>\n",
       "      <td>Đường Hoàng Đức Lương, Phường An Hải Bắc, Quậ...</td>\n",
       "      <td>11.0</td>\n",
       "      <td>100.0</td>\n",
       "      <td>Không</td>\n",
       "      <td>Nhà mặt tiền</td>\n",
       "      <td>1</td>\n",
       "      <td>5.0</td>\n",
       "      <td>20.0</td>\n",
       "      <td>5</td>\n",
       "      <td>16.076632</td>\n",
       "      <td>108.232989</td>\n",
       "    </tr>\n",
       "  </tbody>\n",
       "</table>\n",
       "</div>"
      ],
      "text/plain": [
       "                                             Address Prices   Area toFace  \\\n",
       "0   Đường An Thượng 18, Phường Mỹ An, Quận Ngũ Hà...    4.1   60.0  Không   \n",
       "1   Đường Trường Chinh, Phường Hòa An, Quận Cẩm L...    3.3   90.0  Không   \n",
       "2   Đường Ngô Quyền, Phường An Hải Bắc, Quận Sơn ...   15.0  153.0  Không   \n",
       "3   Đường Tiên Sơn 10, Phường Hòa Cường Nam, Quận...    6.5   90.0  Không   \n",
       "4   Đường Hoàng Đức Lương, Phường An Hải Bắc, Quậ...   11.0  100.0  Không   \n",
       "\n",
       "           type  certificate width length floors   Latitude   Longitude  \n",
       "0  Nhà mặt tiền            1   4.5   15.0      5  16.048471  108.240602  \n",
       "1  Nhà mặt tiền            1   5.0   18.0      2  16.059523  108.179155  \n",
       "2  Nhà mặt tiền            1   6.0   27.0      3  16.075624  108.231908  \n",
       "3  Nhà mặt tiền            1  14.0    7.0      1  16.033474  108.221877  \n",
       "4  Nhà mặt tiền            1   5.0   20.0      5  16.076632  108.232989  "
      ]
     },
     "execution_count": 31,
     "metadata": {},
     "output_type": "execute_result"
    }
   ],
   "source": [
    "df.head()"
   ]
  },
  {
   "cell_type": "markdown",
   "metadata": {},
   "source": [
    "## Cleaning floors"
   ]
  },
  {
   "cell_type": "code",
   "execution_count": 32,
   "metadata": {},
   "outputs": [
    {
     "data": {
      "text/plain": [
       "array(['5', '2', '3', '1', '4', '---', '14', '6', '10', '7', '8', '11',\n",
       "       '9', '19', '33', '34', '18', '123', '23', '15', '35', '25', '12',\n",
       "       '17', '20', '28'], dtype=object)"
      ]
     },
     "execution_count": 32,
     "metadata": {},
     "output_type": "execute_result"
    }
   ],
   "source": [
    "df['floors'].unique()"
   ]
  },
  {
   "cell_type": "code",
   "execution_count": 33,
   "metadata": {},
   "outputs": [],
   "source": [
    "df['floors']=df['floors'].apply(lambda x : x.replace('---', ''))"
   ]
  },
  {
   "cell_type": "code",
   "execution_count": 34,
   "metadata": {},
   "outputs": [],
   "source": [
    "df.loc[:,'floors'] = pd.to_numeric(df['floors'], errors='coerce')"
   ]
  },
  {
   "cell_type": "markdown",
   "metadata": {},
   "source": [
    "## Cleaning type of house"
   ]
  },
  {
   "cell_type": "code",
   "execution_count": 35,
   "metadata": {},
   "outputs": [
    {
     "data": {
      "text/plain": [
       "array(['Nhà mặt tiền', 'Nhà trong hẻm'], dtype=object)"
      ]
     },
     "execution_count": 35,
     "metadata": {},
     "output_type": "execute_result"
    }
   ],
   "source": [
    "df['type'].unique()"
   ]
  },
  {
   "cell_type": "code",
   "execution_count": 36,
   "metadata": {},
   "outputs": [],
   "source": [
    "df['type'] = df['type'].map({\n",
    "    'Nhà mặt tiền': 1,\n",
    "    'Nhà trong hẻm': 0\n",
    "})"
   ]
  },
  {
   "cell_type": "markdown",
   "metadata": {},
   "source": [
    "## Convert to appropriate type"
   ]
  },
  {
   "cell_type": "code",
   "execution_count": 37,
   "metadata": {},
   "outputs": [],
   "source": [
    "def convert(df, features,t):\n",
    "    for feature in features:\n",
    "        df[feature] = df[feature].astype(t)\n",
    "features_int = [\"floors\"]\n",
    "features_cat = [\"type\",\"certificate\",\"toFace\"]\n",
    "features_float =[\"Prices\",\"Area\",\"width\",\"length\"]\n",
    "convert(df,features_int,\"Int64\")\n",
    "convert(df,features_cat,\"category\")\n",
    "convert(df,features_float,\"float64\")"
   ]
  },
  {
   "cell_type": "code",
   "execution_count": 38,
   "metadata": {},
   "outputs": [
    {
     "name": "stdout",
     "output_type": "stream",
     "text": [
      "<class 'pandas.core.frame.DataFrame'>\n",
      "RangeIndex: 13859 entries, 0 to 13858\n",
      "Data columns (total 11 columns):\n",
      " #   Column       Non-Null Count  Dtype   \n",
      "---  ------       --------------  -----   \n",
      " 0   Address      13859 non-null  object  \n",
      " 1   Prices       13799 non-null  float64 \n",
      " 2   Area         13725 non-null  float64 \n",
      " 3   toFace       13859 non-null  category\n",
      " 4   type         13859 non-null  category\n",
      " 5   certificate  13859 non-null  category\n",
      " 6   width        11977 non-null  float64 \n",
      " 7   length       10127 non-null  float64 \n",
      " 8   floors       13538 non-null  Int64   \n",
      " 9   Latitude     12200 non-null  float64 \n",
      " 10  Longitude    12200 non-null  float64 \n",
      "dtypes: Int64(1), category(3), float64(6), object(1)\n",
      "memory usage: 921.1+ KB\n"
     ]
    }
   ],
   "source": [
    "df.info()"
   ]
  },
  {
   "cell_type": "markdown",
   "metadata": {},
   "source": [
    "## Process the address"
   ]
  },
  {
   "cell_type": "code",
   "execution_count": 39,
   "metadata": {},
   "outputs": [],
   "source": [
    "df['Street']=df['Address'].str.split(', ', expand=True)[0]\n",
    "df['Ward']=df['Address'].str.split(', ', expand=True)[1]\n",
    "df['District']=df['Address'].str.split(', ', expand=True)[2]"
   ]
  },
  {
   "cell_type": "code",
   "execution_count": 40,
   "metadata": {},
   "outputs": [],
   "source": [
    "df = df.drop(['Address'], axis=1)"
   ]
  },
  {
   "cell_type": "code",
   "execution_count": 41,
   "metadata": {},
   "outputs": [
    {
     "data": {
      "text/html": [
       "<div>\n",
       "<style scoped>\n",
       "    .dataframe tbody tr th:only-of-type {\n",
       "        vertical-align: middle;\n",
       "    }\n",
       "\n",
       "    .dataframe tbody tr th {\n",
       "        vertical-align: top;\n",
       "    }\n",
       "\n",
       "    .dataframe thead th {\n",
       "        text-align: right;\n",
       "    }\n",
       "</style>\n",
       "<table border=\"1\" class=\"dataframe\">\n",
       "  <thead>\n",
       "    <tr style=\"text-align: right;\">\n",
       "      <th></th>\n",
       "      <th>Prices</th>\n",
       "      <th>Area</th>\n",
       "      <th>toFace</th>\n",
       "      <th>type</th>\n",
       "      <th>certificate</th>\n",
       "      <th>width</th>\n",
       "      <th>length</th>\n",
       "      <th>floors</th>\n",
       "      <th>Latitude</th>\n",
       "      <th>Longitude</th>\n",
       "      <th>Street</th>\n",
       "      <th>Ward</th>\n",
       "      <th>District</th>\n",
       "    </tr>\n",
       "  </thead>\n",
       "  <tbody>\n",
       "    <tr>\n",
       "      <th>0</th>\n",
       "      <td>4.10</td>\n",
       "      <td>60.0</td>\n",
       "      <td>Không</td>\n",
       "      <td>1</td>\n",
       "      <td>1</td>\n",
       "      <td>4.5</td>\n",
       "      <td>15.0</td>\n",
       "      <td>5</td>\n",
       "      <td>16.048471</td>\n",
       "      <td>108.240602</td>\n",
       "      <td>Đường An Thượng 18</td>\n",
       "      <td>Phường Mỹ An</td>\n",
       "      <td>Quận Ngũ Hành Sơn</td>\n",
       "    </tr>\n",
       "    <tr>\n",
       "      <th>1</th>\n",
       "      <td>3.30</td>\n",
       "      <td>90.0</td>\n",
       "      <td>Không</td>\n",
       "      <td>1</td>\n",
       "      <td>1</td>\n",
       "      <td>5.0</td>\n",
       "      <td>18.0</td>\n",
       "      <td>2</td>\n",
       "      <td>16.059523</td>\n",
       "      <td>108.179155</td>\n",
       "      <td>Đường Trường Chinh</td>\n",
       "      <td>Phường Hòa An</td>\n",
       "      <td>Quận Cẩm Lệ</td>\n",
       "    </tr>\n",
       "    <tr>\n",
       "      <th>2</th>\n",
       "      <td>15.00</td>\n",
       "      <td>153.0</td>\n",
       "      <td>Không</td>\n",
       "      <td>1</td>\n",
       "      <td>1</td>\n",
       "      <td>6.0</td>\n",
       "      <td>27.0</td>\n",
       "      <td>3</td>\n",
       "      <td>16.075624</td>\n",
       "      <td>108.231908</td>\n",
       "      <td>Đường Ngô Quyền</td>\n",
       "      <td>Phường An Hải Bắc</td>\n",
       "      <td>Quận Sơn Trà</td>\n",
       "    </tr>\n",
       "    <tr>\n",
       "      <th>3</th>\n",
       "      <td>6.50</td>\n",
       "      <td>90.0</td>\n",
       "      <td>Không</td>\n",
       "      <td>1</td>\n",
       "      <td>1</td>\n",
       "      <td>14.0</td>\n",
       "      <td>7.0</td>\n",
       "      <td>1</td>\n",
       "      <td>16.033474</td>\n",
       "      <td>108.221877</td>\n",
       "      <td>Đường Tiên Sơn 10</td>\n",
       "      <td>Phường Hòa Cường Nam</td>\n",
       "      <td>Quận Hải Châu</td>\n",
       "    </tr>\n",
       "    <tr>\n",
       "      <th>4</th>\n",
       "      <td>11.00</td>\n",
       "      <td>100.0</td>\n",
       "      <td>Không</td>\n",
       "      <td>1</td>\n",
       "      <td>1</td>\n",
       "      <td>5.0</td>\n",
       "      <td>20.0</td>\n",
       "      <td>5</td>\n",
       "      <td>16.076632</td>\n",
       "      <td>108.232989</td>\n",
       "      <td>Đường Hoàng Đức Lương</td>\n",
       "      <td>Phường An Hải Bắc</td>\n",
       "      <td>Quận Sơn Trà</td>\n",
       "    </tr>\n",
       "    <tr>\n",
       "      <th>...</th>\n",
       "      <td>...</td>\n",
       "      <td>...</td>\n",
       "      <td>...</td>\n",
       "      <td>...</td>\n",
       "      <td>...</td>\n",
       "      <td>...</td>\n",
       "      <td>...</td>\n",
       "      <td>...</td>\n",
       "      <td>...</td>\n",
       "      <td>...</td>\n",
       "      <td>...</td>\n",
       "      <td>...</td>\n",
       "      <td>...</td>\n",
       "    </tr>\n",
       "    <tr>\n",
       "      <th>13854</th>\n",
       "      <td>9.50</td>\n",
       "      <td>90.0</td>\n",
       "      <td>Không</td>\n",
       "      <td>1</td>\n",
       "      <td>0</td>\n",
       "      <td>NaN</td>\n",
       "      <td>NaN</td>\n",
       "      <td>3</td>\n",
       "      <td>16.082082</td>\n",
       "      <td>108.231948</td>\n",
       "      <td>Đường Nguyễn Thị Định</td>\n",
       "      <td>Phường An Hải Bắc</td>\n",
       "      <td>Quận Sơn Trà</td>\n",
       "    </tr>\n",
       "    <tr>\n",
       "      <th>13855</th>\n",
       "      <td>2.85</td>\n",
       "      <td>50.0</td>\n",
       "      <td>Tây Nam</td>\n",
       "      <td>0</td>\n",
       "      <td>1</td>\n",
       "      <td>5.0</td>\n",
       "      <td>10.0</td>\n",
       "      <td>2</td>\n",
       "      <td>16.072715</td>\n",
       "      <td>108.220794</td>\n",
       "      <td>300/22 Đường Hải Phòng</td>\n",
       "      <td>Phường Hải Châu I</td>\n",
       "      <td>Quận Hải Châu</td>\n",
       "    </tr>\n",
       "    <tr>\n",
       "      <th>13856</th>\n",
       "      <td>4.35</td>\n",
       "      <td>57.0</td>\n",
       "      <td>Đông Bắc</td>\n",
       "      <td>0</td>\n",
       "      <td>0</td>\n",
       "      <td>5.0</td>\n",
       "      <td>12.0</td>\n",
       "      <td>3</td>\n",
       "      <td>16.075767</td>\n",
       "      <td>108.213537</td>\n",
       "      <td>Đường Ông Ích Khiêm</td>\n",
       "      <td>Phường Thanh Bình</td>\n",
       "      <td>Quận Hải Châu</td>\n",
       "    </tr>\n",
       "    <tr>\n",
       "      <th>13857</th>\n",
       "      <td>3.35</td>\n",
       "      <td>5.0</td>\n",
       "      <td>Tây</td>\n",
       "      <td>0</td>\n",
       "      <td>1</td>\n",
       "      <td>4.5</td>\n",
       "      <td>12.5</td>\n",
       "      <td>2</td>\n",
       "      <td>NaN</td>\n",
       "      <td>NaN</td>\n",
       "      <td>K814A/52 Đường Trần Cao Vân</td>\n",
       "      <td>Phường Thanh Khê Đông</td>\n",
       "      <td>Quận Thanh Khê</td>\n",
       "    </tr>\n",
       "    <tr>\n",
       "      <th>13858</th>\n",
       "      <td>2.99</td>\n",
       "      <td>70.0</td>\n",
       "      <td>Không</td>\n",
       "      <td>1</td>\n",
       "      <td>1</td>\n",
       "      <td>5.0</td>\n",
       "      <td>NaN</td>\n",
       "      <td>2</td>\n",
       "      <td>16.055485</td>\n",
       "      <td>108.155377</td>\n",
       "      <td>Đường Hoàng Văn Thái</td>\n",
       "      <td>Phường Hòa Khánh Nam</td>\n",
       "      <td>Quận Liên Chiểu</td>\n",
       "    </tr>\n",
       "  </tbody>\n",
       "</table>\n",
       "<p>13859 rows × 13 columns</p>\n",
       "</div>"
      ],
      "text/plain": [
       "       Prices   Area    toFace type certificate  width  length  floors  \\\n",
       "0        4.10   60.0     Không    1           1    4.5    15.0       5   \n",
       "1        3.30   90.0     Không    1           1    5.0    18.0       2   \n",
       "2       15.00  153.0     Không    1           1    6.0    27.0       3   \n",
       "3        6.50   90.0     Không    1           1   14.0     7.0       1   \n",
       "4       11.00  100.0     Không    1           1    5.0    20.0       5   \n",
       "...       ...    ...       ...  ...         ...    ...     ...     ...   \n",
       "13854    9.50   90.0     Không    1           0    NaN     NaN       3   \n",
       "13855    2.85   50.0   Tây Nam    0           1    5.0    10.0       2   \n",
       "13856    4.35   57.0  Đông Bắc    0           0    5.0    12.0       3   \n",
       "13857    3.35    5.0       Tây    0           1    4.5    12.5       2   \n",
       "13858    2.99   70.0     Không    1           1    5.0     NaN       2   \n",
       "\n",
       "        Latitude   Longitude                        Street  \\\n",
       "0      16.048471  108.240602            Đường An Thượng 18   \n",
       "1      16.059523  108.179155            Đường Trường Chinh   \n",
       "2      16.075624  108.231908               Đường Ngô Quyền   \n",
       "3      16.033474  108.221877             Đường Tiên Sơn 10   \n",
       "4      16.076632  108.232989         Đường Hoàng Đức Lương   \n",
       "...          ...         ...                           ...   \n",
       "13854  16.082082  108.231948         Đường Nguyễn Thị Định   \n",
       "13855  16.072715  108.220794        300/22 Đường Hải Phòng   \n",
       "13856  16.075767  108.213537           Đường Ông Ích Khiêm   \n",
       "13857        NaN         NaN   K814A/52 Đường Trần Cao Vân   \n",
       "13858  16.055485  108.155377          Đường Hoàng Văn Thái   \n",
       "\n",
       "                        Ward           District  \n",
       "0               Phường Mỹ An  Quận Ngũ Hành Sơn  \n",
       "1              Phường Hòa An        Quận Cẩm Lệ  \n",
       "2          Phường An Hải Bắc       Quận Sơn Trà  \n",
       "3       Phường Hòa Cường Nam      Quận Hải Châu  \n",
       "4          Phường An Hải Bắc       Quận Sơn Trà  \n",
       "...                      ...                ...  \n",
       "13854      Phường An Hải Bắc       Quận Sơn Trà  \n",
       "13855      Phường Hải Châu I      Quận Hải Châu  \n",
       "13856      Phường Thanh Bình      Quận Hải Châu  \n",
       "13857  Phường Thanh Khê Đông     Quận Thanh Khê  \n",
       "13858   Phường Hòa Khánh Nam    Quận Liên Chiểu  \n",
       "\n",
       "[13859 rows x 13 columns]"
      ]
     },
     "execution_count": 41,
     "metadata": {},
     "output_type": "execute_result"
    }
   ],
   "source": [
    "df"
   ]
  },
  {
   "cell_type": "code",
   "execution_count": 42,
   "metadata": {},
   "outputs": [
    {
     "data": {
      "text/plain": [
       "array(['Quận Ngũ Hành Sơn', 'Quận Cẩm Lệ', 'Quận Sơn Trà',\n",
       "       'Quận Hải Châu', 'Huyện Hòa Vang', 'Quận Liên Chiểu',\n",
       "       'Quận Thanh Khê', 'Đà Nẵng', 'Phường Hòa Xuân', 'quận Thanh Khê',\n",
       "       'Ngũ Hành Sơn Đường Phan Tứ', None, 'Phường Khuê Trung'],\n",
       "      dtype=object)"
      ]
     },
     "execution_count": 42,
     "metadata": {},
     "output_type": "execute_result"
    }
   ],
   "source": [
    "df[\"District\"].unique()"
   ]
  },
  {
   "cell_type": "code",
   "execution_count": 43,
   "metadata": {},
   "outputs": [],
   "source": [
    "\n",
    "\n",
    "df['District']= df['District'].str.lower()\n",
    "District = ['quận cẩm lệ', 'quận hải châu', 'quận thanh khê',\n",
    "       'quận ngũ hành sơn', 'quận sơn trà', 'quận liên chiểu','huyện hòa vang']\n",
    "df = df.loc[df['District'].isin(District)]\n",
    "df.loc[:,'District'] = df['District'].str.replace(\"quận \",\"\")\n",
    "df.loc[:,'District'] = df['District'].str.replace(\"huyện \",\"\")"
   ]
  },
  {
   "cell_type": "code",
   "execution_count": 44,
   "metadata": {},
   "outputs": [
    {
     "data": {
      "text/plain": [
       "array(['ngũ hành sơn', 'cẩm lệ', 'sơn trà', 'hải châu', 'hòa vang',\n",
       "       'liên chiểu', 'thanh khê'], dtype=object)"
      ]
     },
     "execution_count": 44,
     "metadata": {},
     "output_type": "execute_result"
    }
   ],
   "source": [
    "df[\"District\"].unique()"
   ]
  },
  {
   "cell_type": "code",
   "execution_count": 45,
   "metadata": {},
   "outputs": [],
   "source": [
    "district_mapping = {district: idx + 1 for idx, district in enumerate(df['District'].unique())}"
   ]
  },
  {
   "cell_type": "code",
   "execution_count": 46,
   "metadata": {},
   "outputs": [
    {
     "data": {
      "text/plain": [
       "{'ngũ hành sơn': 1,\n",
       " 'cẩm lệ': 2,\n",
       " 'sơn trà': 3,\n",
       " 'hải châu': 4,\n",
       " 'hòa vang': 5,\n",
       " 'liên chiểu': 6,\n",
       " 'thanh khê': 7}"
      ]
     },
     "execution_count": 46,
     "metadata": {},
     "output_type": "execute_result"
    }
   ],
   "source": [
    "district_mapping"
   ]
  },
  {
   "cell_type": "code",
   "execution_count": 47,
   "metadata": {},
   "outputs": [
    {
     "name": "stderr",
     "output_type": "stream",
     "text": [
      "/tmp/ipykernel_6566/2734111628.py:1: SettingWithCopyWarning: \n",
      "A value is trying to be set on a copy of a slice from a DataFrame.\n",
      "Try using .loc[row_indexer,col_indexer] = value instead\n",
      "\n",
      "See the caveats in the documentation: https://pandas.pydata.org/pandas-docs/stable/user_guide/indexing.html#returning-a-view-versus-a-copy\n",
      "  df['District_Mapped'] = df['District'].map(district_mapping)\n"
     ]
    }
   ],
   "source": [
    "df['District_Mapped'] = df['District'].map(district_mapping)"
   ]
  },
  {
   "cell_type": "code",
   "execution_count": 48,
   "metadata": {},
   "outputs": [],
   "source": [
    "df.loc[:,'Ward'] = df['Ward'].str.replace(\"Phường \",\"\")\n",
    "df.loc[:,'Street'] = df['Street'].str.replace(\"Đường \",\"\")"
   ]
  },
  {
   "cell_type": "markdown",
   "metadata": {},
   "source": [
    "## Adding columns distance_to_beach,distance_to_center,distance_to_airport using locations"
   ]
  },
  {
   "cell_type": "code",
   "execution_count": 49,
   "metadata": {},
   "outputs": [],
   "source": [
    "center = 16.059665781251635, 108.21164167425187  #Nguyen Van Linh\n",
    "beach = 16.064890175172017, 108.24754863582318 #Bai bien Mi Khe\n",
    "airport = 16.057217401928916, 108.20266539768008 #San bay qte Da Nang"
   ]
  },
  {
   "cell_type": "code",
   "execution_count": 50,
   "metadata": {},
   "outputs": [],
   "source": [
    "def calculate_distance(row, coords):\n",
    "    try:\n",
    "        coords_2 = (row['Latitude'], row['Longitude'])\n",
    "        distance = geodesic(coords, coords_2).kilometers\n",
    "        return distance\n",
    "    except Exception as e:\n",
    "        return None\n"
   ]
  },
  {
   "cell_type": "code",
   "execution_count": 51,
   "metadata": {},
   "outputs": [
    {
     "name": "stderr",
     "output_type": "stream",
     "text": [
      "/tmp/ipykernel_6566/282257747.py:1: SettingWithCopyWarning: \n",
      "A value is trying to be set on a copy of a slice from a DataFrame.\n",
      "Try using .loc[row_indexer,col_indexer] = value instead\n",
      "\n",
      "See the caveats in the documentation: https://pandas.pydata.org/pandas-docs/stable/user_guide/indexing.html#returning-a-view-versus-a-copy\n",
      "  df.loc[:,'distance_to_beach'] = df.apply(calculate_distance,coords = beach, axis=1)\n",
      "/tmp/ipykernel_6566/282257747.py:2: SettingWithCopyWarning: \n",
      "A value is trying to be set on a copy of a slice from a DataFrame.\n",
      "Try using .loc[row_indexer,col_indexer] = value instead\n",
      "\n",
      "See the caveats in the documentation: https://pandas.pydata.org/pandas-docs/stable/user_guide/indexing.html#returning-a-view-versus-a-copy\n",
      "  df.loc[:,'distance_to_center'] = df.apply(calculate_distance,coords = center, axis=1)\n",
      "/tmp/ipykernel_6566/282257747.py:3: SettingWithCopyWarning: \n",
      "A value is trying to be set on a copy of a slice from a DataFrame.\n",
      "Try using .loc[row_indexer,col_indexer] = value instead\n",
      "\n",
      "See the caveats in the documentation: https://pandas.pydata.org/pandas-docs/stable/user_guide/indexing.html#returning-a-view-versus-a-copy\n",
      "  df.loc[:,'distance_to_airport'] = df.apply(calculate_distance,coords = airport, axis=1)\n"
     ]
    }
   ],
   "source": [
    "df.loc[:,'distance_to_beach'] = df.apply(calculate_distance,coords = beach, axis=1)\n",
    "df.loc[:,'distance_to_center'] = df.apply(calculate_distance,coords = center, axis=1)\n",
    "df.loc[:,'distance_to_airport'] = df.apply(calculate_distance,coords = airport, axis=1)"
   ]
  },
  {
   "cell_type": "code",
   "execution_count": 52,
   "metadata": {},
   "outputs": [
    {
     "data": {
      "text/html": [
       "<div>\n",
       "<style scoped>\n",
       "    .dataframe tbody tr th:only-of-type {\n",
       "        vertical-align: middle;\n",
       "    }\n",
       "\n",
       "    .dataframe tbody tr th {\n",
       "        vertical-align: top;\n",
       "    }\n",
       "\n",
       "    .dataframe thead th {\n",
       "        text-align: right;\n",
       "    }\n",
       "</style>\n",
       "<table border=\"1\" class=\"dataframe\">\n",
       "  <thead>\n",
       "    <tr style=\"text-align: right;\">\n",
       "      <th></th>\n",
       "      <th>Prices</th>\n",
       "      <th>Area</th>\n",
       "      <th>toFace</th>\n",
       "      <th>type</th>\n",
       "      <th>certificate</th>\n",
       "      <th>width</th>\n",
       "      <th>length</th>\n",
       "      <th>floors</th>\n",
       "      <th>Latitude</th>\n",
       "      <th>Longitude</th>\n",
       "      <th>Street</th>\n",
       "      <th>Ward</th>\n",
       "      <th>District</th>\n",
       "      <th>District_Mapped</th>\n",
       "      <th>distance_to_beach</th>\n",
       "      <th>distance_to_center</th>\n",
       "      <th>distance_to_airport</th>\n",
       "    </tr>\n",
       "  </thead>\n",
       "  <tbody>\n",
       "    <tr>\n",
       "      <th>0</th>\n",
       "      <td>4.10</td>\n",
       "      <td>60.0</td>\n",
       "      <td>Không</td>\n",
       "      <td>1</td>\n",
       "      <td>1</td>\n",
       "      <td>4.5</td>\n",
       "      <td>15.0</td>\n",
       "      <td>5</td>\n",
       "      <td>16.048471</td>\n",
       "      <td>108.240602</td>\n",
       "      <td>An Thượng 18</td>\n",
       "      <td>Mỹ An</td>\n",
       "      <td>ngũ hành sơn</td>\n",
       "      <td>1</td>\n",
       "      <td>1.963054</td>\n",
       "      <td>3.337356</td>\n",
       "      <td>4.173249</td>\n",
       "    </tr>\n",
       "    <tr>\n",
       "      <th>1</th>\n",
       "      <td>3.30</td>\n",
       "      <td>90.0</td>\n",
       "      <td>Không</td>\n",
       "      <td>1</td>\n",
       "      <td>1</td>\n",
       "      <td>5.0</td>\n",
       "      <td>18.0</td>\n",
       "      <td>2</td>\n",
       "      <td>16.059523</td>\n",
       "      <td>108.179155</td>\n",
       "      <td>Trường Chinh</td>\n",
       "      <td>Hòa An</td>\n",
       "      <td>cẩm lệ</td>\n",
       "      <td>2</td>\n",
       "      <td>7.342262</td>\n",
       "      <td>3.476195</td>\n",
       "      <td>2.528595</td>\n",
       "    </tr>\n",
       "    <tr>\n",
       "      <th>2</th>\n",
       "      <td>15.00</td>\n",
       "      <td>153.0</td>\n",
       "      <td>Không</td>\n",
       "      <td>1</td>\n",
       "      <td>1</td>\n",
       "      <td>6.0</td>\n",
       "      <td>27.0</td>\n",
       "      <td>3</td>\n",
       "      <td>16.075624</td>\n",
       "      <td>108.231908</td>\n",
       "      <td>Ngô Quyền</td>\n",
       "      <td>An Hải Bắc</td>\n",
       "      <td>sơn trà</td>\n",
       "      <td>3</td>\n",
       "      <td>2.052214</td>\n",
       "      <td>2.796569</td>\n",
       "      <td>3.733506</td>\n",
       "    </tr>\n",
       "    <tr>\n",
       "      <th>3</th>\n",
       "      <td>6.50</td>\n",
       "      <td>90.0</td>\n",
       "      <td>Không</td>\n",
       "      <td>1</td>\n",
       "      <td>1</td>\n",
       "      <td>14.0</td>\n",
       "      <td>7.0</td>\n",
       "      <td>1</td>\n",
       "      <td>16.033474</td>\n",
       "      <td>108.221877</td>\n",
       "      <td>Tiên Sơn 10</td>\n",
       "      <td>Hòa Cường Nam</td>\n",
       "      <td>hải châu</td>\n",
       "      <td>4</td>\n",
       "      <td>4.430839</td>\n",
       "      <td>3.098365</td>\n",
       "      <td>3.336094</td>\n",
       "    </tr>\n",
       "    <tr>\n",
       "      <th>4</th>\n",
       "      <td>11.00</td>\n",
       "      <td>100.0</td>\n",
       "      <td>Không</td>\n",
       "      <td>1</td>\n",
       "      <td>1</td>\n",
       "      <td>5.0</td>\n",
       "      <td>20.0</td>\n",
       "      <td>5</td>\n",
       "      <td>16.076632</td>\n",
       "      <td>108.232989</td>\n",
       "      <td>Hoàng Đức Lương</td>\n",
       "      <td>An Hải Bắc</td>\n",
       "      <td>sơn trà</td>\n",
       "      <td>3</td>\n",
       "      <td>2.028580</td>\n",
       "      <td>2.956691</td>\n",
       "      <td>3.891384</td>\n",
       "    </tr>\n",
       "    <tr>\n",
       "      <th>...</th>\n",
       "      <td>...</td>\n",
       "      <td>...</td>\n",
       "      <td>...</td>\n",
       "      <td>...</td>\n",
       "      <td>...</td>\n",
       "      <td>...</td>\n",
       "      <td>...</td>\n",
       "      <td>...</td>\n",
       "      <td>...</td>\n",
       "      <td>...</td>\n",
       "      <td>...</td>\n",
       "      <td>...</td>\n",
       "      <td>...</td>\n",
       "      <td>...</td>\n",
       "      <td>...</td>\n",
       "      <td>...</td>\n",
       "      <td>...</td>\n",
       "    </tr>\n",
       "    <tr>\n",
       "      <th>13854</th>\n",
       "      <td>9.50</td>\n",
       "      <td>90.0</td>\n",
       "      <td>Không</td>\n",
       "      <td>1</td>\n",
       "      <td>0</td>\n",
       "      <td>NaN</td>\n",
       "      <td>NaN</td>\n",
       "      <td>3</td>\n",
       "      <td>16.082082</td>\n",
       "      <td>108.231948</td>\n",
       "      <td>Nguyễn Thị Định</td>\n",
       "      <td>An Hải Bắc</td>\n",
       "      <td>sơn trà</td>\n",
       "      <td>3</td>\n",
       "      <td>2.530862</td>\n",
       "      <td>3.297513</td>\n",
       "      <td>4.169788</td>\n",
       "    </tr>\n",
       "    <tr>\n",
       "      <th>13855</th>\n",
       "      <td>2.85</td>\n",
       "      <td>50.0</td>\n",
       "      <td>Tây Nam</td>\n",
       "      <td>0</td>\n",
       "      <td>1</td>\n",
       "      <td>5.0</td>\n",
       "      <td>10.0</td>\n",
       "      <td>2</td>\n",
       "      <td>16.072715</td>\n",
       "      <td>108.220794</td>\n",
       "      <td>300/22 Hải Phòng</td>\n",
       "      <td>Hải Châu I</td>\n",
       "      <td>hải châu</td>\n",
       "      <td>4</td>\n",
       "      <td>2.990802</td>\n",
       "      <td>1.744703</td>\n",
       "      <td>2.589093</td>\n",
       "    </tr>\n",
       "    <tr>\n",
       "      <th>13856</th>\n",
       "      <td>4.35</td>\n",
       "      <td>57.0</td>\n",
       "      <td>Đông Bắc</td>\n",
       "      <td>0</td>\n",
       "      <td>0</td>\n",
       "      <td>5.0</td>\n",
       "      <td>12.0</td>\n",
       "      <td>3</td>\n",
       "      <td>16.075767</td>\n",
       "      <td>108.213537</td>\n",
       "      <td>Ông Ích Khiêm</td>\n",
       "      <td>Thanh Bình</td>\n",
       "      <td>hải châu</td>\n",
       "      <td>4</td>\n",
       "      <td>3.833006</td>\n",
       "      <td>1.793279</td>\n",
       "      <td>2.359410</td>\n",
       "    </tr>\n",
       "    <tr>\n",
       "      <th>13857</th>\n",
       "      <td>3.35</td>\n",
       "      <td>5.0</td>\n",
       "      <td>Tây</td>\n",
       "      <td>0</td>\n",
       "      <td>1</td>\n",
       "      <td>4.5</td>\n",
       "      <td>12.5</td>\n",
       "      <td>2</td>\n",
       "      <td>NaN</td>\n",
       "      <td>NaN</td>\n",
       "      <td>K814A/52 Trần Cao Vân</td>\n",
       "      <td>Thanh Khê Đông</td>\n",
       "      <td>thanh khê</td>\n",
       "      <td>7</td>\n",
       "      <td>NaN</td>\n",
       "      <td>NaN</td>\n",
       "      <td>NaN</td>\n",
       "    </tr>\n",
       "    <tr>\n",
       "      <th>13858</th>\n",
       "      <td>2.99</td>\n",
       "      <td>70.0</td>\n",
       "      <td>Không</td>\n",
       "      <td>1</td>\n",
       "      <td>1</td>\n",
       "      <td>5.0</td>\n",
       "      <td>NaN</td>\n",
       "      <td>2</td>\n",
       "      <td>16.055485</td>\n",
       "      <td>108.155377</td>\n",
       "      <td>Hoàng Văn Thái</td>\n",
       "      <td>Hòa Khánh Nam</td>\n",
       "      <td>liên chiểu</td>\n",
       "      <td>6</td>\n",
       "      <td>9.917383</td>\n",
       "      <td>6.038321</td>\n",
       "      <td>5.063737</td>\n",
       "    </tr>\n",
       "  </tbody>\n",
       "</table>\n",
       "<p>13665 rows × 17 columns</p>\n",
       "</div>"
      ],
      "text/plain": [
       "       Prices   Area    toFace type certificate  width  length  floors  \\\n",
       "0        4.10   60.0     Không    1           1    4.5    15.0       5   \n",
       "1        3.30   90.0     Không    1           1    5.0    18.0       2   \n",
       "2       15.00  153.0     Không    1           1    6.0    27.0       3   \n",
       "3        6.50   90.0     Không    1           1   14.0     7.0       1   \n",
       "4       11.00  100.0     Không    1           1    5.0    20.0       5   \n",
       "...       ...    ...       ...  ...         ...    ...     ...     ...   \n",
       "13854    9.50   90.0     Không    1           0    NaN     NaN       3   \n",
       "13855    2.85   50.0   Tây Nam    0           1    5.0    10.0       2   \n",
       "13856    4.35   57.0  Đông Bắc    0           0    5.0    12.0       3   \n",
       "13857    3.35    5.0       Tây    0           1    4.5    12.5       2   \n",
       "13858    2.99   70.0     Không    1           1    5.0     NaN       2   \n",
       "\n",
       "        Latitude   Longitude                  Street            Ward  \\\n",
       "0      16.048471  108.240602            An Thượng 18           Mỹ An   \n",
       "1      16.059523  108.179155            Trường Chinh          Hòa An   \n",
       "2      16.075624  108.231908               Ngô Quyền      An Hải Bắc   \n",
       "3      16.033474  108.221877             Tiên Sơn 10   Hòa Cường Nam   \n",
       "4      16.076632  108.232989         Hoàng Đức Lương      An Hải Bắc   \n",
       "...          ...         ...                     ...             ...   \n",
       "13854  16.082082  108.231948         Nguyễn Thị Định      An Hải Bắc   \n",
       "13855  16.072715  108.220794        300/22 Hải Phòng      Hải Châu I   \n",
       "13856  16.075767  108.213537           Ông Ích Khiêm      Thanh Bình   \n",
       "13857        NaN         NaN   K814A/52 Trần Cao Vân  Thanh Khê Đông   \n",
       "13858  16.055485  108.155377          Hoàng Văn Thái   Hòa Khánh Nam   \n",
       "\n",
       "           District  District_Mapped  distance_to_beach  distance_to_center  \\\n",
       "0      ngũ hành sơn                1           1.963054            3.337356   \n",
       "1            cẩm lệ                2           7.342262            3.476195   \n",
       "2           sơn trà                3           2.052214            2.796569   \n",
       "3          hải châu                4           4.430839            3.098365   \n",
       "4           sơn trà                3           2.028580            2.956691   \n",
       "...             ...              ...                ...                 ...   \n",
       "13854       sơn trà                3           2.530862            3.297513   \n",
       "13855      hải châu                4           2.990802            1.744703   \n",
       "13856      hải châu                4           3.833006            1.793279   \n",
       "13857     thanh khê                7                NaN                 NaN   \n",
       "13858    liên chiểu                6           9.917383            6.038321   \n",
       "\n",
       "       distance_to_airport  \n",
       "0                 4.173249  \n",
       "1                 2.528595  \n",
       "2                 3.733506  \n",
       "3                 3.336094  \n",
       "4                 3.891384  \n",
       "...                    ...  \n",
       "13854             4.169788  \n",
       "13855             2.589093  \n",
       "13856             2.359410  \n",
       "13857                  NaN  \n",
       "13858             5.063737  \n",
       "\n",
       "[13665 rows x 17 columns]"
      ]
     },
     "execution_count": 52,
     "metadata": {},
     "output_type": "execute_result"
    }
   ],
   "source": [
    "df"
   ]
  },
  {
   "cell_type": "code",
   "execution_count": 53,
   "metadata": {},
   "outputs": [
    {
     "name": "stdout",
     "output_type": "stream",
     "text": [
      "<class 'pandas.core.frame.DataFrame'>\n",
      "Index: 12885 entries, 0 to 13858\n",
      "Data columns (total 17 columns):\n",
      " #   Column               Non-Null Count  Dtype   \n",
      "---  ------               --------------  -----   \n",
      " 0   Prices               12828 non-null  float64 \n",
      " 1   Area                 12755 non-null  float64 \n",
      " 2   toFace               12885 non-null  category\n",
      " 3   type                 12885 non-null  category\n",
      " 4   certificate          12885 non-null  category\n",
      " 5   width                11121 non-null  float64 \n",
      " 6   length               9332 non-null   float64 \n",
      " 7   floors               12582 non-null  Int64   \n",
      " 8   Latitude             11319 non-null  float64 \n",
      " 9   Longitude            11319 non-null  float64 \n",
      " 10  Street               12885 non-null  object  \n",
      " 11  Ward                 12885 non-null  object  \n",
      " 12  District             12885 non-null  object  \n",
      " 13  District_Mapped      12885 non-null  int64   \n",
      " 14  distance_to_beach    11319 non-null  float64 \n",
      " 15  distance_to_center   11319 non-null  float64 \n",
      " 16  distance_to_airport  11319 non-null  float64 \n",
      "dtypes: Int64(1), category(3), float64(9), int64(1), object(3)\n",
      "memory usage: 1.5+ MB\n"
     ]
    }
   ],
   "source": [
    "df = df.drop_duplicates()\n",
    "df.info()"
   ]
  },
  {
   "cell_type": "code",
   "execution_count": 54,
   "metadata": {},
   "outputs": [],
   "source": [
    "df.loc[(df.width.isnull()) & (df.length.notnull()),['width']] = (df['Area'])/(df['length'])\n",
    "df.loc[(df.width.notnull()) & (df.length.isnull()),['length']] = (df['Area'])/(df['width'])\n",
    "df.loc[(df.width.isnull()) & (df.length.isnull()),['width','length']] = np.sqrt(df['Area'])\n"
   ]
  },
  {
   "cell_type": "code",
   "execution_count": 55,
   "metadata": {},
   "outputs": [
    {
     "name": "stdout",
     "output_type": "stream",
     "text": [
      "<class 'pandas.core.frame.DataFrame'>\n",
      "Index: 12885 entries, 0 to 13858\n",
      "Data columns (total 17 columns):\n",
      " #   Column               Non-Null Count  Dtype   \n",
      "---  ------               --------------  -----   \n",
      " 0   Prices               12828 non-null  float64 \n",
      " 1   Area                 12755 non-null  float64 \n",
      " 2   toFace               12885 non-null  category\n",
      " 3   type                 12885 non-null  category\n",
      " 4   certificate          12885 non-null  category\n",
      " 5   width                12862 non-null  float64 \n",
      " 6   length               12847 non-null  float64 \n",
      " 7   floors               12582 non-null  Int64   \n",
      " 8   Latitude             11319 non-null  float64 \n",
      " 9   Longitude            11319 non-null  float64 \n",
      " 10  Street               12885 non-null  object  \n",
      " 11  Ward                 12885 non-null  object  \n",
      " 12  District             12885 non-null  object  \n",
      " 13  District_Mapped      12885 non-null  int64   \n",
      " 14  distance_to_beach    11319 non-null  float64 \n",
      " 15  distance_to_center   11319 non-null  float64 \n",
      " 16  distance_to_airport  11319 non-null  float64 \n",
      "dtypes: Int64(1), category(3), float64(9), int64(1), object(3)\n",
      "memory usage: 2.0+ MB\n"
     ]
    }
   ],
   "source": [
    "df.info()"
   ]
  },
  {
   "cell_type": "code",
   "execution_count": 56,
   "metadata": {},
   "outputs": [],
   "source": [
    "df = df.dropna(subset=[\"Latitude\",\"Longitude\"])"
   ]
  },
  {
   "cell_type": "code",
   "execution_count": 57,
   "metadata": {},
   "outputs": [
    {
     "name": "stdout",
     "output_type": "stream",
     "text": [
      "<class 'pandas.core.frame.DataFrame'>\n",
      "Index: 11319 entries, 0 to 13858\n",
      "Data columns (total 17 columns):\n",
      " #   Column               Non-Null Count  Dtype   \n",
      "---  ------               --------------  -----   \n",
      " 0   Prices               11277 non-null  float64 \n",
      " 1   Area                 11204 non-null  float64 \n",
      " 2   toFace               11319 non-null  category\n",
      " 3   type                 11319 non-null  category\n",
      " 4   certificate          11319 non-null  category\n",
      " 5   width                11299 non-null  float64 \n",
      " 6   length               11287 non-null  float64 \n",
      " 7   floors               11059 non-null  Int64   \n",
      " 8   Latitude             11319 non-null  float64 \n",
      " 9   Longitude            11319 non-null  float64 \n",
      " 10  Street               11319 non-null  object  \n",
      " 11  Ward                 11319 non-null  object  \n",
      " 12  District             11319 non-null  object  \n",
      " 13  District_Mapped      11319 non-null  int64   \n",
      " 14  distance_to_beach    11319 non-null  float64 \n",
      " 15  distance_to_center   11319 non-null  float64 \n",
      " 16  distance_to_airport  11319 non-null  float64 \n",
      "dtypes: Int64(1), category(3), float64(9), int64(1), object(3)\n",
      "memory usage: 1.3+ MB\n"
     ]
    }
   ],
   "source": [
    "df.info()"
   ]
  },
  {
   "cell_type": "code",
   "execution_count": 58,
   "metadata": {},
   "outputs": [],
   "source": [
    "df['Prices']=df['Prices'].fillna(df['Prices'].mean())\n",
    "df['Area']=df['Area'].fillna(df['Area'].mean())\n",
    "df['floors']=df['floors'].fillna(int(df['floors'].mean()))"
   ]
  },
  {
   "cell_type": "code",
   "execution_count": 59,
   "metadata": {},
   "outputs": [
    {
     "name": "stdout",
     "output_type": "stream",
     "text": [
      "<class 'pandas.core.frame.DataFrame'>\n",
      "Index: 11319 entries, 0 to 13858\n",
      "Data columns (total 17 columns):\n",
      " #   Column               Non-Null Count  Dtype   \n",
      "---  ------               --------------  -----   \n",
      " 0   Prices               11319 non-null  float64 \n",
      " 1   Area                 11319 non-null  float64 \n",
      " 2   toFace               11319 non-null  category\n",
      " 3   type                 11319 non-null  category\n",
      " 4   certificate          11319 non-null  category\n",
      " 5   width                11299 non-null  float64 \n",
      " 6   length               11287 non-null  float64 \n",
      " 7   floors               11319 non-null  Int64   \n",
      " 8   Latitude             11319 non-null  float64 \n",
      " 9   Longitude            11319 non-null  float64 \n",
      " 10  Street               11319 non-null  object  \n",
      " 11  Ward                 11319 non-null  object  \n",
      " 12  District             11319 non-null  object  \n",
      " 13  District_Mapped      11319 non-null  int64   \n",
      " 14  distance_to_beach    11319 non-null  float64 \n",
      " 15  distance_to_center   11319 non-null  float64 \n",
      " 16  distance_to_airport  11319 non-null  float64 \n",
      "dtypes: Int64(1), category(3), float64(9), int64(1), object(3)\n",
      "memory usage: 1.3+ MB\n"
     ]
    }
   ],
   "source": [
    "df.info()"
   ]
  },
  {
   "cell_type": "code",
   "execution_count": 60,
   "metadata": {},
   "outputs": [],
   "source": [
    "df = df.dropna(subset=[\"width\",\"length\"])"
   ]
  },
  {
   "cell_type": "code",
   "execution_count": 61,
   "metadata": {},
   "outputs": [],
   "source": [
    "df.to_csv(\"processed_data_2_og.csv\",encoding=\"utf-8\",index=False)"
   ]
  }
 ],
 "metadata": {
  "kernelspec": {
   "display_name": "Python 3",
   "language": "python",
   "name": "python3"
  },
  "language_info": {
   "codemirror_mode": {
    "name": "ipython",
    "version": 3
   },
   "file_extension": ".py",
   "mimetype": "text/x-python",
   "name": "python",
   "nbconvert_exporter": "python",
   "pygments_lexer": "ipython3",
   "version": "3.12.7"
  }
 },
 "nbformat": 4,
 "nbformat_minor": 2
}
